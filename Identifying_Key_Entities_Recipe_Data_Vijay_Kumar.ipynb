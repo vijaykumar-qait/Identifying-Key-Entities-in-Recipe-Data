{
 "nbformat": 4,
 "nbformat_minor": 0,
 "metadata": {
  "colab": {
   "provenance": [],
   "collapsed_sections": [
    "-ksMVNgeyiLN",
    "1y18LwoqyFpk",
    "bhNG_XC1r4Qw",
    "-JtvsBYur-oV",
    "dpJQu3JE_P7Z",
    "JbriClEV9CW5",
    "Qtqtij2-CD2m",
    "_RJEStPSC9PB",
    "qJdYJ2TEDBzd",
    "hJm2nUw0998s"
   ],
   "toc_visible": true
  },
  "kernelspec": {
   "name": "python3",
   "display_name": "Python 3"
  },
  "language_info": {
   "name": "python"
  }
 },
 "cells": [
  {
   "cell_type": "markdown",
   "source": [
    "# **Identifying Key Entities in Recipe Data**"
   ],
   "metadata": {
    "id": "42UBKEnat_xo"
   }
  },
  {
   "cell_type": "markdown",
   "source": [
    "\n",
    "**Business Objective**:\n",
    "The goal of this assignment is to train a Named Entity Recognition (NER) model using Conditional Random Fields (CRF) to extract key entities from recipe data. The model will classify words into predefined categories such as ingredients, quantities and units, enabling the creation of a structured database of recipes and ingredients that can be used to power advanced features in recipe management systems, dietary tracking apps, or e-commerce platforms."
   ],
   "metadata": {
    "id": "Pme3h_fduOKh"
   }
  },
  {
   "cell_type": "markdown",
   "source": [
    "### **Data Description**\n",
    "The given data is in JSON format, representing a **structured recipe ingredient list** with **Named Entity Recognition (NER) labels**. Below is a breakdown of the data fields:\n",
    "\n",
    "```json\n",
    "[\n",
    "    {\n",
    "        \"input\": \"6 Karela Bitter Gourd Pavakkai Salt 1 Onion 3 tablespoon Gram flour besan 2 teaspoons Turmeric powder Haldi Red Chilli Cumin seeds Jeera Coriander Powder Dhania Amchur Dry Mango Sunflower Oil\",\n",
    "        \"pos\": \"quantity ingredient ingredient ingredient ingredient ingredient quantity ingredient quantity unit ingredient ingredient ingredient quantity unit ingredient ingredient ingredient ingredient ingredient ingredient ingredient ingredient ingredient ingredient ingredient ingredient ingredient ingredient ingredient ingredient\"\n",
    "    },\n",
    "    {\n",
    "      \"input\": \"2-1/2 cups rice cooked 3 tomatoes teaspoons BC Belle Bhat powder 1 teaspoon chickpea lentils 1/2 cumin seeds white urad dal mustard green chilli dry red 2 cashew or peanuts 1-1/2 tablespoon oil asafoetida\",\n",
    "      \"pos\": \"quantity unit ingredient ingredient quantity ingredient unit ingredient ingredient ingredient ingredient quantity unit ingredient ingredient quantity ingredient ingredient ingredient ingredient ingredient ingredient ingredient ingredient ingredient ingredient quantity ingredient ingredient ingredient quantity unit ingredient ingredient\"\n",
    "    }\n",
    "]\n"
   ],
   "metadata": {
    "id": "FXzoAs8evNG0"
   }
  },
  {
   "cell_type": "markdown",
   "source": [
    "| **Key**  | **Description**  |\n",
    "|----------|-----------------|\n",
    "| `input`  | Contains a raw ingredient list from a recipe. |\n",
    "| `pos`    | Represents the corresponding part-of-speech (POS) tags or NER labels, identifying quantities, ingredients, and units. |\n"
   ],
   "metadata": {
    "id": "LSDcNvJlwC6N"
   }
  },
  {
   "cell_type": "markdown",
   "source": [
    "## **1** Import libraries"
   ],
   "metadata": {
    "id": "phenosA4se1c"
   }
  },
  {
   "cell_type": "markdown",
   "source": [
    "#### **1.1** Installation of sklearn-crfsuite"
   ],
   "metadata": {
    "id": "Br-jQHin3kQX"
   }
  },
  {
   "cell_type": "markdown",
   "source": [
    "sklearn-crfsuite is a Python wrapper for CRFsuite, a fast and efficient implementation of Conditional Random Fields (CRFs). It is designed to integrate seamlessly with scikit-learn for structured prediction tasks such as Named Entity Recognition (NER), Part-of-Speech (POS) tagging, and chunking."
   ],
   "metadata": {
    "id": "DPhaJSfCwpfa"
   }
  },
  {
   "cell_type": "code",
   "source": [
    "\n",
    "# installation of sklearn_crfsuite\n",
    "!pip install sklearn_crfsuite==0.5.0"
   ],
   "metadata": {
    "id": "_QawokgQXAMO",
    "ExecuteTime": {
     "end_time": "2025-07-08T15:17:31.127016Z",
     "start_time": "2025-07-08T15:17:30.289762Z"
    }
   },
   "outputs": [
    {
     "name": "stdout",
     "output_type": "stream",
     "text": [
      "Requirement already satisfied: sklearn_crfsuite==0.5.0 in /Users/kumar.vijay/PycharmProjects/CNN_Waste_Segregation/.venv/lib/python3.12/site-packages (0.5.0)\r\n",
      "Requirement already satisfied: python-crfsuite>=0.9.7 in /Users/kumar.vijay/PycharmProjects/CNN_Waste_Segregation/.venv/lib/python3.12/site-packages (from sklearn_crfsuite==0.5.0) (0.9.11)\r\n",
      "Requirement already satisfied: scikit-learn>=0.24.0 in /Users/kumar.vijay/PycharmProjects/CNN_Waste_Segregation/.venv/lib/python3.12/site-packages (from sklearn_crfsuite==0.5.0) (1.6.1)\r\n",
      "Requirement already satisfied: tabulate>=0.4.2 in /Users/kumar.vijay/PycharmProjects/CNN_Waste_Segregation/.venv/lib/python3.12/site-packages (from sklearn_crfsuite==0.5.0) (0.9.0)\r\n",
      "Requirement already satisfied: tqdm>=2.0 in /Users/kumar.vijay/PycharmProjects/CNN_Waste_Segregation/.venv/lib/python3.12/site-packages (from sklearn_crfsuite==0.5.0) (4.67.1)\r\n",
      "Requirement already satisfied: numpy>=1.19.5 in /Users/kumar.vijay/PycharmProjects/CNN_Waste_Segregation/.venv/lib/python3.12/site-packages (from scikit-learn>=0.24.0->sklearn_crfsuite==0.5.0) (2.3.1)\r\n",
      "Requirement already satisfied: scipy>=1.6.0 in /Users/kumar.vijay/PycharmProjects/CNN_Waste_Segregation/.venv/lib/python3.12/site-packages (from scikit-learn>=0.24.0->sklearn_crfsuite==0.5.0) (1.15.3)\r\n",
      "Requirement already satisfied: joblib>=1.2.0 in /Users/kumar.vijay/PycharmProjects/CNN_Waste_Segregation/.venv/lib/python3.12/site-packages (from scikit-learn>=0.24.0->sklearn_crfsuite==0.5.0) (1.5.0)\r\n",
      "Requirement already satisfied: threadpoolctl>=3.1.0 in /Users/kumar.vijay/PycharmProjects/CNN_Waste_Segregation/.venv/lib/python3.12/site-packages (from scikit-learn>=0.24.0->sklearn_crfsuite==0.5.0) (3.6.0)\r\n"
     ]
    }
   ],
   "execution_count": 349
  },
  {
   "cell_type": "markdown",
   "source": [
    "#### **1.2** Import necessary libraries"
   ],
   "metadata": {
    "id": "svqZwrHT3rzV"
   }
  },
  {
   "cell_type": "code",
   "source": [
    "# Import warnings\n",
    "import warnings\n",
    "warnings.filterwarnings('ignore')"
   ],
   "metadata": {
    "id": "v2zLbaB0w1ZH",
    "ExecuteTime": {
     "end_time": "2025-07-08T15:17:31.154768Z",
     "start_time": "2025-07-08T15:17:31.152903Z"
    }
   },
   "outputs": [],
   "execution_count": 350
  },
  {
   "cell_type": "code",
   "metadata": {
    "id": "0hlp-Ln4WsaV",
    "ExecuteTime": {
     "end_time": "2025-07-08T15:17:31.182850Z",
     "start_time": "2025-07-08T15:17:31.179273Z"
    }
   },
   "source": [
    "# Import necessary libraries\n",
    "import json  # For handling JSON data\n",
    "import pandas as pd  # For data manipulation and analysis\n",
    "import re  # For regular expressions (useful for text preprocessing)\n",
    "import matplotlib.pyplot as plt  # For visualisation\n",
    "import seaborn as sns  # For advanced data visualisation\n",
    "import sklearn_crfsuite  # CRF (Conditional Random Fields) implementation for sequence modeling\n",
    "import numpy as np  # For numerical computations\n",
    "# Saving and loading machine learning models\n",
    "import joblib\n",
    "import random\n",
    "import spacy\n",
    "from IPython.display import display, Markdown # For displaying well-formatted output\n",
    "\n",
    "from fractions import Fraction  # For handling fractional values in numerical data\n",
    "# Importing tools for feature engineering and model training\n",
    "from collections import Counter  # For counting occurrences of elements in a list\n",
    "from sklearn.model_selection import train_test_split  # For splitting dataset into train and test sets\n",
    "from sklearn_crfsuite import metrics  # For evaluating CRF models\n",
    "from sklearn_crfsuite.metrics import flat_classification_report\n",
    "from sklearn.utils.class_weight import compute_class_weight\n",
    "from collections import Counter\n",
    "from sklearn.metrics import confusion_matrix"
   ],
   "outputs": [],
   "execution_count": 351
  },
  {
   "cell_type": "code",
   "source": [
    "# Ensure pandas displays full content\n",
    "pd.set_option('display.max_colwidth', None)\n",
    "pd.set_option('display.expand_frame_repr', False)"
   ],
   "metadata": {
    "id": "k3_LR6N_2cli",
    "ExecuteTime": {
     "end_time": "2025-07-08T15:17:31.208081Z",
     "start_time": "2025-07-08T15:17:31.205770Z"
    }
   },
   "outputs": [],
   "execution_count": 352
  },
  {
   "cell_type": "markdown",
   "source": [
    "## **2** Data Ingestion and Preparation <font color = red>[25 marks]</font> <br>"
   ],
   "metadata": {
    "id": "fUOu_u0fyMfh"
   }
  },
  {
   "cell_type": "markdown",
   "source": [
    "#### **2.1** *Read Recipe Data from Dataframe and prepare the data for analysis* <font color = red>[12 marks]</font> <br>\n",
    "Read the data from JSON file, print first five rows and describe the dataframe"
   ],
   "metadata": {
    "id": "-ksMVNgeyiLN"
   }
  },
  {
   "cell_type": "markdown",
   "source": [
    "##### **2.1.1** **Define a *load_json_dataframe* function** <font color = red>[7 marks]</font> <br>\n",
    "\n",
    "Define a function that takes path of the ingredient_and_quantity.json file and reads it, convert it into dataframe - df and return it."
   ],
   "metadata": {
    "id": "kxn28jL3z4GY"
   }
  },
  {
   "cell_type": "code",
   "source": [
    "# define a function to load json file to a dataframe\n",
    "# below function will load the json file into data frame\n",
    "def load_json_dataframe(file_path):\n",
    "    try:\n",
    "        with open(file_path, 'r', encoding='utf-8' ) as file:\n",
    "            data = json.load(file)\n",
    "\n",
    "        #convert to data frame\n",
    "        df = pd.DataFrame(data)\n",
    "\n",
    "        print(f\"Loaded {len(df)} recipe data from {file_path}\")\n",
    "        return df\n",
    "    except FileNotFoundError:\n",
    "        print(f\"File {file_path} not found.\")\n",
    "    except json.decoder.JSONDecodeError:\n",
    "        print(f\"File {file_path} invalid JSON.\")\n",
    "    except Exception as e:\n",
    "        print(f\"Error loading file: {e}\")\n",
    "        return None\n"
   ],
   "metadata": {
    "id": "dq6UgUYcPyOL",
    "ExecuteTime": {
     "end_time": "2025-07-08T15:17:31.234293Z",
     "start_time": "2025-07-08T15:17:31.230943Z"
    }
   },
   "outputs": [],
   "execution_count": 353
  },
  {
   "cell_type": "markdown",
   "source": [
    "##### **2.1.2** **Execute the *load_json_dataframe* function** <font color = red>[2 marks]</font> <br>"
   ],
   "metadata": {
    "id": "1NlhkH_605IA"
   }
  },
  {
   "cell_type": "code",
   "source": [
    "# read the json file by giving the file path and create a dataframe\n",
    "df = load_json_dataframe('ingredient_and_quantity.json')"
   ],
   "metadata": {
    "id": "UONMkMsrxdxB",
    "ExecuteTime": {
     "end_time": "2025-07-08T15:17:31.260090Z",
     "start_time": "2025-07-08T15:17:31.256527Z"
    }
   },
   "outputs": [
    {
     "name": "stdout",
     "output_type": "stream",
     "text": [
      "Loaded 285 recipe data from ingredient_and_quantity.json\n"
     ]
    }
   ],
   "execution_count": 354
  },
  {
   "cell_type": "markdown",
   "source": [
    "##### **2.1.3** **Describe the dataframe** <font color = red>[3 marks]</font> <br>\n",
    "\n",
    "Print first five rows of dataframe along with dimensions. Display the information of dataframe"
   ],
   "metadata": {
    "id": "_1VkDbev3UHP"
   }
  },
  {
   "cell_type": "code",
   "source": [
    "# display first five rows of the dataframe - df\n",
    "print('First 5 rows of the dataframe:')\n",
    "df.head()"
   ],
   "metadata": {
    "id": "yZFj2skZxgpl",
    "ExecuteTime": {
     "end_time": "2025-07-08T15:17:31.305108Z",
     "start_time": "2025-07-08T15:17:31.300768Z"
    }
   },
   "outputs": [
    {
     "name": "stdout",
     "output_type": "stream",
     "text": [
      "First 5 rows of the dataframe:\n"
     ]
    },
    {
     "data": {
      "text/plain": [
       "                                                                                                                                                                                                                                                                                            input                                                                                                                                                                                                                                                                                                                                                                                                                                                                      pos\n",
       "0                                                                                                 6 Karela Bitter Gourd Pavakkai Salt 1 Onion 3 tablespoon Gram flour besan 2 teaspoons Turmeric powder Haldi Red Chilli Cumin seeds Jeera Coriander Powder Dhania Amchur Dry Mango Sunflower Oil                                                                                                                                         quantity ingredient ingredient ingredient ingredient ingredient quantity ingredient quantity unit ingredient ingredient ingredient quantity unit ingredient ingredient ingredient ingredient ingredient ingredient ingredient ingredient ingredient ingredient ingredient ingredient ingredient ingredient ingredient ingredient\n",
       "1                                                                                    2-1/2 cups rice cooked 3 tomatoes teaspoons BC Belle Bhat powder 1 teaspoon chickpea lentils 1/2 cumin seeds white urad dal mustard green chilli dry red 2 cashew or peanuts 1-1/2 tablespoon oil asafoetida                                                                                                                        quantity unit ingredient ingredient quantity ingredient unit ingredient ingredient ingredient ingredient quantity unit ingredient ingredient quantity ingredient ingredient ingredient ingredient ingredient ingredient ingredient ingredient ingredient ingredient quantity ingredient ingredient ingredient quantity unit ingredient ingredient\n",
       "2                                                                  1-1/2 cups Rice Vermicelli Noodles Thin 1 Onion sliced 1/2 cup Carrots Gajjar chopped 1/3 Green peas Matar 2 Chillies 1/4 teaspoon Asafoetida hing Mustard seeds White Urad Dal Split Ghee sprig Curry leaves Salt Lemon juice                                                                                       quantity unit ingredient ingredient ingredient ingredient quantity ingredient ingredient quantity unit ingredient ingredient ingredient quantity ingredient ingredient ingredient quantity ingredient quantity unit ingredient ingredient ingredient ingredient ingredient ingredient ingredient ingredient ingredient unit ingredient ingredient ingredient ingredient ingredient\n",
       "3  500 grams Chicken 2 Onion chopped 1 Tomato 4 Green Chillies slit inch Ginger finely 6 cloves Garlic 1/2 teaspoon Turmeric powder Haldi Garam masala tablespoon Sesame Gingelly Oil 1/4 Methi Seeds Fenugreek Coriander Dhania Dry Red Fennel seeds Saunf cups Sorrel Leaves Gongura picked and  quantity unit ingredient quantity ingredient ingredient quantity ingredient quantity ingredient ingredient ingredient unit ingredient ingredient quantity unit ingredient quantity unit ingredient ingredient ingredient ingredient ingredient unit ingredient ingredient ingredient quantity ingredient ingredient ingredient ingredient ingredient ingredient ingredient ingredient ingredient ingredient unit ingredient ingredient ingredient ingredient ingredient\n",
       "4                                                                                                                                                           1 tablespoon chana dal white urad 2 red chillies coriander seeds 3 inches ginger onion tomato Teaspoon mustard asafoetida sprig curry                                                                                                                                                                                                                                                                 quantity unit ingredient ingredient ingredient ingredient quantity ingredient ingredient ingredient ingredient quantity unit ingredient ingredient ingredient unit ingredient ingredient unit ingredient"
      ],
      "text/html": [
       "<div>\n",
       "<style scoped>\n",
       "    .dataframe tbody tr th:only-of-type {\n",
       "        vertical-align: middle;\n",
       "    }\n",
       "\n",
       "    .dataframe tbody tr th {\n",
       "        vertical-align: top;\n",
       "    }\n",
       "\n",
       "    .dataframe thead th {\n",
       "        text-align: right;\n",
       "    }\n",
       "</style>\n",
       "<table border=\"1\" class=\"dataframe\">\n",
       "  <thead>\n",
       "    <tr style=\"text-align: right;\">\n",
       "      <th></th>\n",
       "      <th>input</th>\n",
       "      <th>pos</th>\n",
       "    </tr>\n",
       "  </thead>\n",
       "  <tbody>\n",
       "    <tr>\n",
       "      <th>0</th>\n",
       "      <td>6 Karela Bitter Gourd Pavakkai Salt 1 Onion 3 tablespoon Gram flour besan 2 teaspoons Turmeric powder Haldi Red Chilli Cumin seeds Jeera Coriander Powder Dhania Amchur Dry Mango Sunflower Oil</td>\n",
       "      <td>quantity ingredient ingredient ingredient ingredient ingredient quantity ingredient quantity unit ingredient ingredient ingredient quantity unit ingredient ingredient ingredient ingredient ingredient ingredient ingredient ingredient ingredient ingredient ingredient ingredient ingredient ingredient ingredient ingredient</td>\n",
       "    </tr>\n",
       "    <tr>\n",
       "      <th>1</th>\n",
       "      <td>2-1/2 cups rice cooked 3 tomatoes teaspoons BC Belle Bhat powder 1 teaspoon chickpea lentils 1/2 cumin seeds white urad dal mustard green chilli dry red 2 cashew or peanuts 1-1/2 tablespoon oil asafoetida</td>\n",
       "      <td>quantity unit ingredient ingredient quantity ingredient unit ingredient ingredient ingredient ingredient quantity unit ingredient ingredient quantity ingredient ingredient ingredient ingredient ingredient ingredient ingredient ingredient ingredient ingredient quantity ingredient ingredient ingredient quantity unit ingredient ingredient</td>\n",
       "    </tr>\n",
       "    <tr>\n",
       "      <th>2</th>\n",
       "      <td>1-1/2 cups Rice Vermicelli Noodles Thin 1 Onion sliced 1/2 cup Carrots Gajjar chopped 1/3 Green peas Matar 2 Chillies 1/4 teaspoon Asafoetida hing Mustard seeds White Urad Dal Split Ghee sprig Curry leaves Salt Lemon juice</td>\n",
       "      <td>quantity unit ingredient ingredient ingredient ingredient quantity ingredient ingredient quantity unit ingredient ingredient ingredient quantity ingredient ingredient ingredient quantity ingredient quantity unit ingredient ingredient ingredient ingredient ingredient ingredient ingredient ingredient ingredient unit ingredient ingredient ingredient ingredient ingredient</td>\n",
       "    </tr>\n",
       "    <tr>\n",
       "      <th>3</th>\n",
       "      <td>500 grams Chicken 2 Onion chopped 1 Tomato 4 Green Chillies slit inch Ginger finely 6 cloves Garlic 1/2 teaspoon Turmeric powder Haldi Garam masala tablespoon Sesame Gingelly Oil 1/4 Methi Seeds Fenugreek Coriander Dhania Dry Red Fennel seeds Saunf cups Sorrel Leaves Gongura picked and</td>\n",
       "      <td>quantity unit ingredient quantity ingredient ingredient quantity ingredient quantity ingredient ingredient ingredient unit ingredient ingredient quantity unit ingredient quantity unit ingredient ingredient ingredient ingredient ingredient unit ingredient ingredient ingredient quantity ingredient ingredient ingredient ingredient ingredient ingredient ingredient ingredient ingredient ingredient unit ingredient ingredient ingredient ingredient ingredient</td>\n",
       "    </tr>\n",
       "    <tr>\n",
       "      <th>4</th>\n",
       "      <td>1 tablespoon chana dal white urad 2 red chillies coriander seeds 3 inches ginger onion tomato Teaspoon mustard asafoetida sprig curry</td>\n",
       "      <td>quantity unit ingredient ingredient ingredient ingredient quantity ingredient ingredient ingredient ingredient quantity unit ingredient ingredient ingredient unit ingredient ingredient unit ingredient</td>\n",
       "    </tr>\n",
       "  </tbody>\n",
       "</table>\n",
       "</div>"
      ]
     },
     "execution_count": 355,
     "metadata": {},
     "output_type": "execute_result"
    }
   ],
   "execution_count": 355
  },
  {
   "cell_type": "code",
   "source": [
    "# print the dimensions of dataframe - df\n",
    "print(f\"\\nDataframe dimensions: {df.shape}\")\n",
    "print(f'Number of rows: {df.shape[0]}')\n",
    "print(f'Number of columns: {df.shape[1]}')"
   ],
   "metadata": {
    "id": "Y7cA28XSx1I1",
    "ExecuteTime": {
     "end_time": "2025-07-08T15:17:31.373620Z",
     "start_time": "2025-07-08T15:17:31.370571Z"
    }
   },
   "outputs": [
    {
     "name": "stdout",
     "output_type": "stream",
     "text": [
      "\n",
      "Dataframe dimensions: (285, 2)\n",
      "Number of rows: 285\n",
      "Number of columns: 2\n"
     ]
    }
   ],
   "execution_count": 356
  },
  {
   "cell_type": "code",
   "source": [
    "# print the information of the dataframe\n",
    "print(\"\\nDataframe Information:\")\n",
    "print(df.info())\n",
    "print(f\"\\nDataframe columns names:\")\n",
    "print(df.columns.tolist())\n",
    "print(f\"\\nData Types\")\n",
    "print(df.dtypes)\n",
    "print('\\nNull value check:')\n",
    "print(df.isnull().sum())"
   ],
   "metadata": {
    "id": "Q-gsbEhJx2rm",
    "ExecuteTime": {
     "end_time": "2025-07-08T15:17:31.474773Z",
     "start_time": "2025-07-08T15:17:31.470096Z"
    }
   },
   "outputs": [
    {
     "name": "stdout",
     "output_type": "stream",
     "text": [
      "\n",
      "Dataframe Information:\n",
      "<class 'pandas.core.frame.DataFrame'>\n",
      "RangeIndex: 285 entries, 0 to 284\n",
      "Data columns (total 2 columns):\n",
      " #   Column  Non-Null Count  Dtype \n",
      "---  ------  --------------  ----- \n",
      " 0   input   285 non-null    object\n",
      " 1   pos     285 non-null    object\n",
      "dtypes: object(2)\n",
      "memory usage: 4.6+ KB\n",
      "None\n",
      "\n",
      "Dataframe columns names:\n",
      "['input', 'pos']\n",
      "\n",
      "Data Types\n",
      "input    object\n",
      "pos      object\n",
      "dtype: object\n",
      "\n",
      "Null value check:\n",
      "input    0\n",
      "pos      0\n",
      "dtype: int64\n"
     ]
    }
   ],
   "execution_count": 357
  },
  {
   "cell_type": "markdown",
   "source": [
    "#### **2.2** *Recipe Data Manipulation* <font color = red>[13 marks]</font> <br>\n",
    "Create derived metrics in dataframe and provide insights of the dataframe"
   ],
   "metadata": {
    "id": "1y18LwoqyFpk"
   }
  },
  {
   "cell_type": "markdown",
   "source": [
    "##### **2.2.1** **Create input_tokens and pos_tokens columns by splitting the input and pos from the dataframe** <font color = red>[3 marks]</font> <br>\n",
    "Split the input and pos into input_tokens and pos_tokens in the dataframe and display it in the dataframe"
   ],
   "metadata": {
    "id": "bhNG_XC1r4Qw"
   }
  },
  {
   "cell_type": "code",
   "source": [
    "# split the input and pos into input_tokens and pos_tokens in the dataframe\n",
    "\n",
    "# Tokenize input\n",
    "df['input_tokens'] = df['input'].str.split()\n",
    "# Tokenize POS\n",
    "df['pos_tokens'] = df['pos'].str.split()"
   ],
   "metadata": {
    "id": "nma6uJwmXUas",
    "ExecuteTime": {
     "end_time": "2025-07-08T15:17:31.588575Z",
     "start_time": "2025-07-08T15:17:31.580279Z"
    }
   },
   "outputs": [],
   "execution_count": 358
  },
  {
   "cell_type": "code",
   "source": [
    "# display first five rows of the dataframe - df\n",
    "print('DataFrame with tokenized columns:')\n",
    "print(df.head())"
   ],
   "metadata": {
    "id": "9g-ajvFBzaaf",
    "ExecuteTime": {
     "end_time": "2025-07-08T15:17:31.637891Z",
     "start_time": "2025-07-08T15:17:31.634341Z"
    }
   },
   "outputs": [
    {
     "name": "stdout",
     "output_type": "stream",
     "text": [
      "DataFrame with tokenized columns:\n",
      "                                                                                                                                                                                                                                                                                            input                                                                                                                                                                                                                                                                                                                                                                                                                                                                      pos                                                                                                                                                                                                                                                                                                                                   input_tokens                                                                                                                                                                                                                                                                                                                                                                                                                                                                                                              pos_tokens\n",
      "0                                                                                                 6 Karela Bitter Gourd Pavakkai Salt 1 Onion 3 tablespoon Gram flour besan 2 teaspoons Turmeric powder Haldi Red Chilli Cumin seeds Jeera Coriander Powder Dhania Amchur Dry Mango Sunflower Oil                                                                                                                                         quantity ingredient ingredient ingredient ingredient ingredient quantity ingredient quantity unit ingredient ingredient ingredient quantity unit ingredient ingredient ingredient ingredient ingredient ingredient ingredient ingredient ingredient ingredient ingredient ingredient ingredient ingredient ingredient ingredient                                                                                                                [6, Karela, Bitter, Gourd, Pavakkai, Salt, 1, Onion, 3, tablespoon, Gram, flour, besan, 2, teaspoons, Turmeric, powder, Haldi, Red, Chilli, Cumin, seeds, Jeera, Coriander, Powder, Dhania, Amchur, Dry, Mango, Sunflower, Oil]                                                                                                                                                        [quantity, ingredient, ingredient, ingredient, ingredient, ingredient, quantity, ingredient, quantity, unit, ingredient, ingredient, ingredient, quantity, unit, ingredient, ingredient, ingredient, ingredient, ingredient, ingredient, ingredient, ingredient, ingredient, ingredient, ingredient, ingredient, ingredient, ingredient, ingredient, ingredient]\n",
      "1                                                                                    2-1/2 cups rice cooked 3 tomatoes teaspoons BC Belle Bhat powder 1 teaspoon chickpea lentils 1/2 cumin seeds white urad dal mustard green chilli dry red 2 cashew or peanuts 1-1/2 tablespoon oil asafoetida                                                                                                                        quantity unit ingredient ingredient quantity ingredient unit ingredient ingredient ingredient ingredient quantity unit ingredient ingredient quantity ingredient ingredient ingredient ingredient ingredient ingredient ingredient ingredient ingredient ingredient quantity ingredient ingredient ingredient quantity unit ingredient ingredient                                                                                                [2-1/2, cups, rice, cooked, 3, tomatoes, teaspoons, BC, Belle, Bhat, powder, 1, teaspoon, chickpea, lentils, 1/2, cumin, seeds, white, urad, dal, mustard, green, chilli, dry, red, 2, cashew, or, peanuts, 1-1/2, tablespoon, oil, asafoetida]                                                                                                                                    [quantity, unit, ingredient, ingredient, quantity, ingredient, unit, ingredient, ingredient, ingredient, ingredient, quantity, unit, ingredient, ingredient, quantity, ingredient, ingredient, ingredient, ingredient, ingredient, ingredient, ingredient, ingredient, ingredient, ingredient, quantity, ingredient, ingredient, ingredient, quantity, unit, ingredient, ingredient]\n",
      "2                                                                  1-1/2 cups Rice Vermicelli Noodles Thin 1 Onion sliced 1/2 cup Carrots Gajjar chopped 1/3 Green peas Matar 2 Chillies 1/4 teaspoon Asafoetida hing Mustard seeds White Urad Dal Split Ghee sprig Curry leaves Salt Lemon juice                                                                                       quantity unit ingredient ingredient ingredient ingredient quantity ingredient ingredient quantity unit ingredient ingredient ingredient quantity ingredient ingredient ingredient quantity ingredient quantity unit ingredient ingredient ingredient ingredient ingredient ingredient ingredient ingredient ingredient unit ingredient ingredient ingredient ingredient ingredient                                                                           [1-1/2, cups, Rice, Vermicelli, Noodles, Thin, 1, Onion, sliced, 1/2, cup, Carrots, Gajjar, chopped, 1/3, Green, peas, Matar, 2, Chillies, 1/4, teaspoon, Asafoetida, hing, Mustard, seeds, White, Urad, Dal, Split, Ghee, sprig, Curry, leaves, Salt, Lemon, juice]                                                                                                [quantity, unit, ingredient, ingredient, ingredient, ingredient, quantity, ingredient, ingredient, quantity, unit, ingredient, ingredient, ingredient, quantity, ingredient, ingredient, ingredient, quantity, ingredient, quantity, unit, ingredient, ingredient, ingredient, ingredient, ingredient, ingredient, ingredient, ingredient, ingredient, unit, ingredient, ingredient, ingredient, ingredient, ingredient]\n",
      "3  500 grams Chicken 2 Onion chopped 1 Tomato 4 Green Chillies slit inch Ginger finely 6 cloves Garlic 1/2 teaspoon Turmeric powder Haldi Garam masala tablespoon Sesame Gingelly Oil 1/4 Methi Seeds Fenugreek Coriander Dhania Dry Red Fennel seeds Saunf cups Sorrel Leaves Gongura picked and  quantity unit ingredient quantity ingredient ingredient quantity ingredient quantity ingredient ingredient ingredient unit ingredient ingredient quantity unit ingredient quantity unit ingredient ingredient ingredient ingredient ingredient unit ingredient ingredient ingredient quantity ingredient ingredient ingredient ingredient ingredient ingredient ingredient ingredient ingredient ingredient unit ingredient ingredient ingredient ingredient ingredient  [500, grams, Chicken, 2, Onion, chopped, 1, Tomato, 4, Green, Chillies, slit, inch, Ginger, finely, 6, cloves, Garlic, 1/2, teaspoon, Turmeric, powder, Haldi, Garam, masala, tablespoon, Sesame, Gingelly, Oil, 1/4, Methi, Seeds, Fenugreek, Coriander, Dhania, Dry, Red, Fennel, seeds, Saunf, cups, Sorrel, Leaves, Gongura, picked, and]  [quantity, unit, ingredient, quantity, ingredient, ingredient, quantity, ingredient, quantity, ingredient, ingredient, ingredient, unit, ingredient, ingredient, quantity, unit, ingredient, quantity, unit, ingredient, ingredient, ingredient, ingredient, ingredient, unit, ingredient, ingredient, ingredient, quantity, ingredient, ingredient, ingredient, ingredient, ingredient, ingredient, ingredient, ingredient, ingredient, ingredient, unit, ingredient, ingredient, ingredient, ingredient, ingredient]\n",
      "4                                                                                                                                                           1 tablespoon chana dal white urad 2 red chillies coriander seeds 3 inches ginger onion tomato Teaspoon mustard asafoetida sprig curry                                                                                                                                                                                                                                                                 quantity unit ingredient ingredient ingredient ingredient quantity ingredient ingredient ingredient ingredient quantity unit ingredient ingredient ingredient unit ingredient ingredient unit ingredient                                                                                                                                                                                    [1, tablespoon, chana, dal, white, urad, 2, red, chillies, coriander, seeds, 3, inches, ginger, onion, tomato, Teaspoon, mustard, asafoetida, sprig, curry]                                                                                                                                                                                                                                                                                          [quantity, unit, ingredient, ingredient, ingredient, ingredient, quantity, ingredient, ingredient, ingredient, ingredient, quantity, unit, ingredient, ingredient, ingredient, unit, ingredient, ingredient, unit, ingredient]\n"
     ]
    }
   ],
   "execution_count": 359
  },
  {
   "cell_type": "markdown",
   "source": [
    "##### **2.2.2** **Provide the length for input_tokens and pos_tokens and validate their length** <font color = red>[2 marks]</font> <br>\n",
    "\n",
    "Create input_length and pos_length columns in the dataframe and validate both the lengths. Check for the rows that are unequal in input and pos length\n"
   ],
   "metadata": {
    "id": "-JtvsBYur-oV"
   }
  },
  {
   "cell_type": "code",
   "source": [
    "# create input_length and pos_length columns for the input_tokens and pos-tokens\n",
    "df['input_length'] = df['input_tokens'].apply(len)\n",
    "df['pos_length'] = df['pos_tokens'].apply(len)"
   ],
   "metadata": {
    "id": "GeVRD2IK1Jrg",
    "ExecuteTime": {
     "end_time": "2025-07-08T15:17:31.673389Z",
     "start_time": "2025-07-08T15:17:31.666420Z"
    }
   },
   "outputs": [],
   "execution_count": 360
  },
  {
   "cell_type": "code",
   "source": [
    "# check for the equality of input_length and pos_length in the dataframe\n",
    "length_mismatch = df[df['input_length'] != df['pos_length']]\n",
    "print(f'Number of rows with length mismatch: {len(length_mismatch)}')\n",
    "if len(length_mismatch) > 0:\n",
    "    print('Rows with unequal input and pos lengths:')\n",
    "    print(length_mismatch[['input_length', 'pos_length']].head(10))\n",
    "    print(f'Indices of mismatched rows: {length_mismatch.index.tolist()}')"
   ],
   "metadata": {
    "id": "BPMOlLnz1P1H",
    "ExecuteTime": {
     "end_time": "2025-07-08T15:17:31.716988Z",
     "start_time": "2025-07-08T15:17:31.709269Z"
    }
   },
   "outputs": [
    {
     "name": "stdout",
     "output_type": "stream",
     "text": [
      "Number of rows with length mismatch: 5\n",
      "Rows with unequal input and pos lengths:\n",
      "     input_length  pos_length\n",
      "17             15          14\n",
      "27             37          36\n",
      "79             38          37\n",
      "164            54          53\n",
      "207            18          17\n",
      "Indices of mismatched rows: [17, 27, 79, 164, 207]\n"
     ]
    }
   ],
   "execution_count": 361
  },
  {
   "cell_type": "markdown",
   "source": [
    "##### **2.2.3** **Define a unique_labels function and validate the labels in pos_tokens** <font color = red>[2 marks]</font> <br>\n",
    "\n",
    "Define a unique_labels function which checks for all the unique pos labels in the recipe & execute it.\n"
   ],
   "metadata": {
    "id": "dpJQu3JE_P7Z"
   }
  },
  {
   "cell_type": "code",
   "source": [
    "# Define a unique_labels function to checks for all the unique pos labels in the recipe & print it\n",
    "def unique_labels(df):\n",
    "    all_labels = []\n",
    "    for pos_list in df['pos_tokens']:\n",
    "        if isinstance(pos_list, list):\n",
    "            all_labels.extend(pos_list)\n",
    "\n",
    "    unique_labels_set = set(all_labels)\n",
    "\n",
    "    print(f'Total unique labels: {len(unique_labels_set)}')\n",
    "    print(f'Unique labels: {sorted(unique_labels_set)}')\n",
    "\n",
    "    # Count frequency of each label\n",
    "    label_counts = Counter(all_labels)\n",
    "    print(f'\\nLabel frequencies: ')\n",
    "    for label, count in label_counts.most_common():\n",
    "        print(f'{label}: {count}')\n",
    "\n",
    "    return unique_labels_set\n",
    "\n",
    "# Execute the function\n",
    "unique_labels_set = unique_labels(df)"
   ],
   "metadata": {
    "id": "-4aMFCxXO_GJ",
    "ExecuteTime": {
     "end_time": "2025-07-08T15:17:31.755831Z",
     "start_time": "2025-07-08T15:17:31.750937Z"
    }
   },
   "outputs": [
    {
     "name": "stdout",
     "output_type": "stream",
     "text": [
      "Total unique labels: 3\n",
      "Unique labels: ['ingredient', 'quantity', 'unit']\n",
      "\n",
      "Label frequencies: \n",
      "ingredient: 7543\n",
      "quantity: 1414\n",
      "unit: 1190\n"
     ]
    }
   ],
   "execution_count": 362
  },
  {
   "cell_type": "markdown",
   "source": [
    "##### **2.2.3** **Provide the insights seen in the recipe data after validation** <font color = red>[1 marks]</font> <br>\n",
    "\n",
    "Provide the indexes that requires cleaning and formatting in the dataframe"
   ],
   "metadata": {
    "id": "JbriClEV9CW5"
   }
  },
  {
   "metadata": {
    "ExecuteTime": {
     "end_time": "2025-07-08T15:17:31.788306Z",
     "start_time": "2025-07-08T15:17:31.786179Z"
    }
   },
   "cell_type": "code",
   "source": [
    "if len(length_mismatch) > 0:\n",
    "    print(f\"Indexes requiring cleaning: {length_mismatch.index.tolist()}\")\n",
    "    print(\"These rows have input/pos length mismatch and need to be dropped\")\n",
    "else:\n",
    "    print(\"No data quality issues found - all rows have matching token lengths\")"
   ],
   "outputs": [
    {
     "name": "stdout",
     "output_type": "stream",
     "text": [
      "Indexes requiring cleaning: [17, 27, 79, 164, 207]\n",
      "These rows have input/pos length mismatch and need to be dropped\n"
     ]
    }
   ],
   "execution_count": 363
  },
  {
   "cell_type": "markdown",
   "source": [
    "<font color = red>[write your answer]</font> <br>\n",
    "\n"
   ],
   "metadata": {
    "id": "rrNQ4AtD9RPk"
   }
  },
  {
   "cell_type": "markdown",
   "source": [
    "##### **2.2.4** **Drop the rows that have invalid data provided in previous cell** <font color = red> [2 marks]</font> <br>"
   ],
   "metadata": {
    "id": "Qtqtij2-CD2m"
   }
  },
  {
   "cell_type": "code",
   "source": [
    "# drop the irrelevant recipe data\n",
    "print(f\"Original dataset size: {len(df)}\")\n",
    "if len(length_mismatch) > 0:\n",
    "    df = df.drop(length_mismatch.index).reset_index(drop=True)\n",
    "    print(f\"Rows dropped due to length mismatch: {len(length_mismatch)}\")\n",
    "print(f\"Cleaned dataset size: {len(df)}\")"
   ],
   "metadata": {
    "id": "jaiy1pYWCFPA",
    "ExecuteTime": {
     "end_time": "2025-07-08T15:17:31.848575Z",
     "start_time": "2025-07-08T15:17:31.845094Z"
    }
   },
   "outputs": [
    {
     "name": "stdout",
     "output_type": "stream",
     "text": [
      "Original dataset size: 285\n",
      "Rows dropped due to length mismatch: 5\n",
      "Cleaned dataset size: 280\n"
     ]
    }
   ],
   "execution_count": 364
  },
  {
   "cell_type": "markdown",
   "source": [
    "##### **2.2.5** **Update the input_length & pos_length in dataframe**<font color = red> [2 marks]</font> <br>"
   ],
   "metadata": {
    "id": "_RJEStPSC9PB"
   }
  },
  {
   "cell_type": "code",
   "source": [
    "# update the input and pos length in input_length and pos_length\n",
    "df['input_length'] = df['input_tokens'].apply(len)\n",
    "df['pos_length'] = df['pos_tokens'].apply(len)"
   ],
   "metadata": {
    "id": "XjJd7gPI5_ca",
    "ExecuteTime": {
     "end_time": "2025-07-08T15:17:31.920188Z",
     "start_time": "2025-07-08T15:17:31.917381Z"
    }
   },
   "outputs": [],
   "execution_count": 365
  },
  {
   "cell_type": "markdown",
   "source": [
    "##### **2.2.6** **Validate the input_length and pos_length by checking unequal rows** <font color = red> [1 marks]</font> <br>"
   ],
   "metadata": {
    "id": "qJdYJ2TEDBzd"
   }
  },
  {
   "cell_type": "code",
   "source": [
    "# validate the input length and pos length as input_length and pos_length\n",
    "final_mismatch = df[df['input_length'] != df['pos_length']]\n",
    "print(f\"Final validation - rows with length mismatch: {len(final_mismatch)}\")\n",
    "if len(final_mismatch) == 0:\n",
    "    print(\"All rows have matching input and pos token lengths\")"
   ],
   "metadata": {
    "id": "fdSsdOPM8aXo",
    "ExecuteTime": {
     "end_time": "2025-07-08T15:17:31.952828Z",
     "start_time": "2025-07-08T15:17:31.941370Z"
    }
   },
   "outputs": [
    {
     "name": "stdout",
     "output_type": "stream",
     "text": [
      "Final validation - rows with length mismatch: 0\n",
      "All rows have matching input and pos token lengths\n"
     ]
    }
   ],
   "execution_count": 366
  },
  {
   "cell_type": "markdown",
   "source": [
    "## **3** Train Validation Split (70 train - 30 val) <font color = red>[6 marks]</font> <br>"
   ],
   "metadata": {
    "id": "TwKLW4em-qMu"
   }
  },
  {
   "cell_type": "markdown",
   "source": [
    "#### **3.1** *Perform train and validation split ratio* <font color = red>[6 marks]</font> <br>\n",
    "Split the dataset with the help of input_tokens and pos_tokens and make a ratio of 70:30 split for training and validation datasets."
   ],
   "metadata": {
    "id": "z_pJDTVO-71z"
   }
  },
  {
   "cell_type": "markdown",
   "source": [
    "###### **3.1.1** **Split the dataset into train_df and val_df into 70:30 ratio** <font color = red> [1 marks]</font> <br>"
   ],
   "metadata": {
    "id": "l-64gdDiIy9u"
   }
  },
  {
   "cell_type": "code",
   "source": [
    "# split the dataset into training and validation sets\n",
    "train_df, val_df = train_test_split(df, test_size=0.3, random_state=42, shuffle=True)\n",
    "train_df = train_df.reset_index(drop=True)\n",
    "val_df = val_df.reset_index(drop=True)\n",
    "print(f\"Training set size: {len(train_df)} ({len(train_df)/len(df)*100:.1f}%)\")\n",
    "print(f\"Validation set size: {len(val_df)} ({len(val_df)/len(df)*100:.1f}%)\")"
   ],
   "metadata": {
    "id": "W20A_-9E_WOv",
    "ExecuteTime": {
     "end_time": "2025-07-08T15:17:31.988844Z",
     "start_time": "2025-07-08T15:17:31.984231Z"
    }
   },
   "outputs": [
    {
     "name": "stdout",
     "output_type": "stream",
     "text": [
      "Training set size: 196 (70.0%)\n",
      "Validation set size: 84 (30.0%)\n"
     ]
    }
   ],
   "execution_count": 367
  },
  {
   "cell_type": "markdown",
   "source": [
    "###### **3.1.2** **Print the first five rows of train_df and val_df** <font color = red> [1 marks]</font> <br>"
   ],
   "metadata": {
    "id": "PUA05_77JRAv"
   }
  },
  {
   "cell_type": "code",
   "source": [
    "# print the first five rows of train_df\n",
    "print(\"\\nFirst 5 rows of training dataset:\")\n",
    "print(train_df.head())"
   ],
   "metadata": {
    "id": "pgMZfsbV_XhK",
    "ExecuteTime": {
     "end_time": "2025-07-08T15:17:32.023748Z",
     "start_time": "2025-07-08T15:17:32.020329Z"
    }
   },
   "outputs": [
    {
     "name": "stdout",
     "output_type": "stream",
     "text": [
      "\n",
      "First 5 rows of training dataset:\n",
      "                                                                                                                                                                                                                                                         input                                                                                                                                                                                                                                                                                                                                                                                                                                       pos                                                                                                                                                                                                                                                                                           input_tokens                                                                                                                                                                                                                                                                                                                                                                                                                                                                          pos_tokens  input_length  pos_length\n",
      "0                                                        250 grams Okra Oil 1 Onion finely chopped Tomato Grated teaspoon Ginger 2 Garlic Finely 1/2 Cumin seeds 1/4 Teaspoon asafoetida cup cottage cheese pinched coriander powder mango red chilli turmeric                                                                                                                        quantity unit ingredient ingredient quantity ingredient ingredient ingredient ingredient ingredient unit ingredient quantity ingredient ingredient quantity ingredient ingredient quantity unit ingredient unit ingredient ingredient ingredient ingredient ingredient ingredient ingredient ingredient ingredient                                                                  [250, grams, Okra, Oil, 1, Onion, finely, chopped, Tomato, Grated, teaspoon, Ginger, 2, Garlic, Finely, 1/2, Cumin, seeds, 1/4, Teaspoon, asafoetida, cup, cottage, cheese, pinched, coriander, powder, mango, red, chilli, turmeric]                                                                                                                                  [quantity, unit, ingredient, ingredient, quantity, ingredient, ingredient, ingredient, ingredient, ingredient, unit, ingredient, quantity, ingredient, ingredient, quantity, ingredient, ingredient, quantity, unit, ingredient, unit, ingredient, ingredient, ingredient, ingredient, ingredient, ingredient, ingredient, ingredient, ingredient]            31          31\n",
      "1  200 grams Paneer Homemade Cottage Cheese 2 Potato Aloo Bay leaf tej patta Dry Red Chilli 1 tablespoon Panch Phoran Masala roasted and powdered Tomato big sized teaspoon Turmeric powder Haldi Cumin seeds Jeera Ginger grated Salt 1/2 Sugar Sunflower Oil  quantity unit ingredient ingredient ingredient ingredient quantity ingredient ingredient ingredient ingredient ingredient ingredient ingredient ingredient ingredient quantity unit ingredient ingredient ingredient ingredient ingredient ingredient ingredient ingredient ingredient unit ingredient ingredient ingredient ingredient ingredient ingredient ingredient ingredient ingredient quantity ingredient ingredient ingredient  [200, grams, Paneer, Homemade, Cottage, Cheese, 2, Potato, Aloo, Bay, leaf, tej, patta, Dry, Red, Chilli, 1, tablespoon, Panch, Phoran, Masala, roasted, and, powdered, Tomato, big, sized, teaspoon, Turmeric, powder, Haldi, Cumin, seeds, Jeera, Ginger, grated, Salt, 1/2, Sugar, Sunflower, Oil]  [quantity, unit, ingredient, ingredient, ingredient, ingredient, quantity, ingredient, ingredient, ingredient, ingredient, ingredient, ingredient, ingredient, ingredient, ingredient, quantity, unit, ingredient, ingredient, ingredient, ingredient, ingredient, ingredient, ingredient, ingredient, ingredient, unit, ingredient, ingredient, ingredient, ingredient, ingredient, ingredient, ingredient, ingredient, ingredient, quantity, ingredient, ingredient, ingredient]            41          41\n",
      "2                                                                                                       500 grams Cabbage Patta Gobi Muttaikose 1 teaspoon Mustard seeds 1-1/2 White Urad Dal Split sprig Curry leaves Green Chilli 1/4 cup Fresh coconut Salt                                                                                                                                                                                        quantity unit ingredient ingredient ingredient ingredient quantity unit ingredient ingredient quantity ingredient ingredient ingredient ingredient unit ingredient ingredient ingredient ingredient quantity unit ingredient ingredient ingredient                                                                                                                       [500, grams, Cabbage, Patta, Gobi, Muttaikose, 1, teaspoon, Mustard, seeds, 1-1/2, White, Urad, Dal, Split, sprig, Curry, leaves, Green, Chilli, 1/4, cup, Fresh, coconut, Salt]                                                                                                                                                                                                        [quantity, unit, ingredient, ingredient, ingredient, ingredient, quantity, unit, ingredient, ingredient, quantity, ingredient, ingredient, ingredient, ingredient, unit, ingredient, ingredient, ingredient, ingredient, quantity, unit, ingredient, ingredient, ingredient]            25          25\n",
      "3                                                                                                                                          500 grams Fresh Figs 1/4 cup Lemon juice 1 teaspoon zest 2 Red Chilli flakes 1/2 Honey Brown Sugar (Demerara Sugar)                                                                                                                                                                                                                                quantity unit ingredient ingredient quantity unit ingredient ingredient quantity unit ingredient quantity ingredient ingredient ingredient quantity ingredient ingredient ingredient ingredient ingredient                                                                                                                                                              [500, grams, Fresh, Figs, 1/4, cup, Lemon, juice, 1, teaspoon, zest, 2, Red, Chilli, flakes, 1/2, Honey, Brown, Sugar, (Demerara, Sugar)]                                                                                                                                                                                                                                                    [quantity, unit, ingredient, ingredient, quantity, unit, ingredient, ingredient, quantity, unit, ingredient, quantity, ingredient, ingredient, ingredient, quantity, ingredient, ingredient, ingredient, ingredient, ingredient]            21          21\n",
      "4                                                                                                                                                                                               2 cups Water 1 teaspoon Tea leaves 1/4 Milk 10 Saffron strands                                                                                                                                                                                                                                                                                                                           quantity unit ingredient quantity unit ingredient ingredient quantity ingredient quantity ingredient ingredient                                                                                                                                                                                                                            [2, cups, Water, 1, teaspoon, Tea, leaves, 1/4, Milk, 10, Saffron, strands]                                                                                                                                                                                                                                                                                                                                                        [quantity, unit, ingredient, quantity, unit, ingredient, ingredient, quantity, ingredient, quantity, ingredient, ingredient]            12          12\n"
     ]
    }
   ],
   "execution_count": 368
  },
  {
   "cell_type": "code",
   "source": [
    "# print the first five rows of the val_df\n",
    "print(\"\\nFirst 5 rows of validation dataset:\")\n",
    "print(val_df.head())"
   ],
   "metadata": {
    "id": "Kgtg5WE4_d7h",
    "ExecuteTime": {
     "end_time": "2025-07-08T15:17:32.069997Z",
     "start_time": "2025-07-08T15:17:32.065629Z"
    }
   },
   "outputs": [
    {
     "name": "stdout",
     "output_type": "stream",
     "text": [
      "\n",
      "First 5 rows of validation dataset:\n",
      "                                                                                                                                                                                                                                                                                                                                                                       input                                                                                                                                                                                                                                                                                                                                                                                                                                                                                                                                                                                      pos                                                                                                                                                                                                                                                                                                                                                                                                                        input_tokens                                                                                                                                                                                                                                                                                                                                                                                                                                                                                                                                                                                                                                        pos_tokens  input_length  pos_length\n",
      "0                                                                                                                                                                                                                                                                                      1 cup Ada 2 liter Milk 3/4 Sugar tablespoon Ghee 1/2 teaspoon Cardamom Powder Elaichi                                                                                                                                                                                                                                                                                                                                                                                                                                                     quantity unit ingredient quantity unit ingredient quantity ingredient unit ingredient quantity unit ingredient ingredient ingredient                                                                                                                                                                                                                                                                                                                               [1, cup, Ada, 2, liter, Milk, 3/4, Sugar, tablespoon, Ghee, 1/2, teaspoon, Cardamom, Powder, Elaichi]                                                                                                                                                                                                                                                                                                                                                                                                                                                                                              [quantity, unit, ingredient, quantity, unit, ingredient, quantity, ingredient, unit, ingredient, quantity, unit, ingredient, ingredient, ingredient]            15          15\n",
      "1  1 Carrot Gajjar chopped 7 Potatoes Aloo 2 cups Cauliflower gobi cut to small florets Onion tablespoon Ginger Garlic Paste Salt teaspoons Sunflower Oil 1/2 cup Fresh coconut grated teaspoon Whole Black Peppercorns Green Chillies Fennel seeds Saunf Poppy 6 Cashew nuts inch Cinnamon Stick Dalchini Star anise 3 Cloves Laung Cardamom Elaichi Pods/Seeds Cumin Jeera  quantity ingredient ingredient ingredient quantity ingredient ingredient quantity unit ingredient ingredient ingredient ingredient ingredient ingredient ingredient unit ingredient ingredient ingredient ingredient unit ingredient ingredient quantity unit ingredient ingredient ingredient unit ingredient ingredient ingredient ingredient ingredient ingredient ingredient ingredient ingredient quantity ingredient ingredient unit ingredient ingredient ingredient ingredient ingredient quantity ingredient ingredient ingredient ingredient ingredient ingredient ingredient  [1, Carrot, Gajjar, chopped, 7, Potatoes, Aloo, 2, cups, Cauliflower, gobi, cut, to, small, florets, Onion, tablespoon, Ginger, Garlic, Paste, Salt, teaspoons, Sunflower, Oil, 1/2, cup, Fresh, coconut, grated, teaspoon, Whole, Black, Peppercorns, Green, Chillies, Fennel, seeds, Saunf, Poppy, 6, Cashew, nuts, inch, Cinnamon, Stick, Dalchini, Star, anise, 3, Cloves, Laung, Cardamom, Elaichi, Pods/Seeds, Cumin, Jeera]  [quantity, ingredient, ingredient, ingredient, quantity, ingredient, ingredient, quantity, unit, ingredient, ingredient, ingredient, ingredient, ingredient, ingredient, ingredient, unit, ingredient, ingredient, ingredient, ingredient, unit, ingredient, ingredient, quantity, unit, ingredient, ingredient, ingredient, unit, ingredient, ingredient, ingredient, ingredient, ingredient, ingredient, ingredient, ingredient, ingredient, quantity, ingredient, ingredient, unit, ingredient, ingredient, ingredient, ingredient, ingredient, quantity, ingredient, ingredient, ingredient, ingredient, ingredient, ingredient, ingredient]            56          56\n",
      "2                                                                                                                                           1 tablespoon Sunflower Oil 3 Potato Aloo Ginger paste Green Chilli chopped 1-1/12 tablespoons Sesame seeds Til teaspoon Red powder Cumin Jeera Coriander Powder Dhania 1/2 Garam masala 2 Sweet Chutney Date Tamarind Leaves few                                                                                                                                                                                                                     quantity unit ingredient ingredient quantity ingredient ingredient ingredient ingredient ingredient ingredient ingredient quantity unit ingredient ingredient ingredient unit ingredient ingredient ingredient ingredient ingredient ingredient ingredient quantity ingredient ingredient quantity ingredient ingredient ingredient ingredient ingredient ingredient                                                                                                                                                                [1, tablespoon, Sunflower, Oil, 3, Potato, Aloo, Ginger, paste, Green, Chilli, chopped, 1-1/12, tablespoons, Sesame, seeds, Til, teaspoon, Red, powder, Cumin, Jeera, Coriander, Powder, Dhania, 1/2, Garam, masala, 2, Sweet, Chutney, Date, Tamarind, Leaves, few]                                                                                                                                                                                                                                          [quantity, unit, ingredient, ingredient, quantity, ingredient, ingredient, ingredient, ingredient, ingredient, ingredient, ingredient, quantity, unit, ingredient, ingredient, ingredient, unit, ingredient, ingredient, ingredient, ingredient, ingredient, ingredient, ingredient, quantity, ingredient, ingredient, quantity, ingredient, ingredient, ingredient, ingredient, ingredient, ingredient]            35          35\n",
      "3                                                                                                                                                                                                                                                                       1 cup green peas gram flour 1/2 cheese tsp ginger 2 chillies turmeric powder cumin teaspoon salt oil                                                                                                                                                                                                                                                                                                                                                                                                            quantity unit ingredient ingredient ingredient ingredient quantity ingredient unit ingredient quantity ingredient ingredient ingredient ingredient unit ingredient ingredient                                                                                                                                                                                                                                                                                                             [1, cup, green, peas, gram, flour, 1/2, cheese, tsp, ginger, 2, chillies, turmeric, powder, cumin, teaspoon, salt, oil]                                                                                                                                                                                                                                                                                                                                                                                                                                                  [quantity, unit, ingredient, ingredient, ingredient, ingredient, quantity, ingredient, unit, ingredient, quantity, ingredient, ingredient, ingredient, ingredient, unit, ingredient, ingredient]            18          18\n",
      "4                                2 cups Brown Rice cooked tablespoons Garlic chopped 1 Green Chilli 1/2 cup Carrots (Gajjar) beans (French Beans) Bell Pepper (Capsicum) Onion Cabbage (Patta Gobi/ Muttaikose) tablespoon Roasted tomato pasta sauce - or store bought Red teaspoon Soy Ginger freshly grated Spring Greens Salt Vinegar Extra Virgin Olive Oil as required                                             quantity unit ingredient ingredient ingredient unit ingredient ingredient quantity ingredient ingredient quantity unit ingredient ingredient ingredient ingredient ingredient ingredient ingredient ingredient ingredient ingredient ingredient ingredient ingredient unit ingredient ingredient ingredient ingredient ingredient ingredient ingredient ingredient ingredient unit ingredient ingredient ingredient ingredient ingredient ingredient ingredient ingredient ingredient ingredient ingredient ingredient ingredient ingredient                                     [2, cups, Brown, Rice, cooked, tablespoons, Garlic, chopped, 1, Green, Chilli, 1/2, cup, Carrots, (Gajjar), beans, (French, Beans), Bell, Pepper, (Capsicum), Onion, Cabbage, (Patta, Gobi/, Muttaikose), tablespoon, Roasted, tomato, pasta, sauce, -, or, store, bought, Red, teaspoon, Soy, Ginger, freshly, grated, Spring, Greens, Salt, Vinegar, Extra, Virgin, Olive, Oil, as, required]                                                  [quantity, unit, ingredient, ingredient, ingredient, unit, ingredient, ingredient, quantity, ingredient, ingredient, quantity, unit, ingredient, ingredient, ingredient, ingredient, ingredient, ingredient, ingredient, ingredient, ingredient, ingredient, ingredient, ingredient, ingredient, unit, ingredient, ingredient, ingredient, ingredient, ingredient, ingredient, ingredient, ingredient, ingredient, unit, ingredient, ingredient, ingredient, ingredient, ingredient, ingredient, ingredient, ingredient, ingredient, ingredient, ingredient, ingredient, ingredient, ingredient]            51          51\n"
     ]
    }
   ],
   "execution_count": 369
  },
  {
   "cell_type": "markdown",
   "source": [
    "###### **3.1.3** **Extract the dataset into train_df and val_df into X_train, X_val, y_train and y_val and display their length** <font color = red> [2 marks]</font> <br>\n",
    "\n",
    "Extract X_train, X_val, y_train and y_val by extracting the list of input_tokens and pos_tokens from train_df and val_df and also display their length"
   ],
   "metadata": {
    "id": "7prEiaiqI_VZ"
   }
  },
  {
   "cell_type": "code",
   "source": [
    "# extract the training and validation sets by taking input_tokens and pos_tokens\n",
    "X_train = train_df['input_tokens'].tolist()\n",
    "X_val = val_df['input_tokens'].tolist()\n",
    "y_train = train_df['pos_tokens'].tolist()\n",
    "y_val = val_df['pos_tokens'].tolist()"
   ],
   "metadata": {
    "id": "BFVnCD71IHXF",
    "ExecuteTime": {
     "end_time": "2025-07-08T15:17:32.120766Z",
     "start_time": "2025-07-08T15:17:32.117142Z"
    }
   },
   "outputs": [],
   "execution_count": 370
  },
  {
   "cell_type": "code",
   "source": [
    "# validate the shape of training and validation samples\n",
    "print(f\"X_train length: {len(X_train)}\")\n",
    "print(f\"X_val length: {len(X_val)}\")\n",
    "print(f\"y_train length: {len(y_train)}\")\n",
    "print(f\"y_val length: {len(y_val)}\")"
   ],
   "metadata": {
    "id": "yQPOVz3J_fiq",
    "ExecuteTime": {
     "end_time": "2025-07-08T15:17:32.154179Z",
     "start_time": "2025-07-08T15:17:32.150977Z"
    }
   },
   "outputs": [
    {
     "name": "stdout",
     "output_type": "stream",
     "text": [
      "X_train length: 196\n",
      "X_val length: 84\n",
      "y_train length: 196\n",
      "y_val length: 84\n"
     ]
    }
   ],
   "execution_count": 371
  },
  {
   "cell_type": "markdown",
   "source": [
    "###### **3.1.4** **Display the number of unique labels present in y_train** <font color = red> [2 marks]</font> <br>"
   ],
   "metadata": {
    "id": "8uicUYglLeiA"
   }
  },
  {
   "cell_type": "code",
   "source": [
    "# Display the number of unique labels present in y_train\n",
    "all_train_labels = [label for recipe_labels in y_train for label in recipe_labels]\n",
    "unique_train_labels = set(all_train_labels)\n",
    "print(f\"Number of unique labels in y_train: {len(unique_train_labels)}\")\n",
    "print(f\"Unique labels in y_train: {sorted(unique_train_labels)}\")"
   ],
   "metadata": {
    "id": "hzWtzpdINt6X",
    "ExecuteTime": {
     "end_time": "2025-07-08T15:17:32.190037Z",
     "start_time": "2025-07-08T15:17:32.187496Z"
    }
   },
   "outputs": [
    {
     "name": "stdout",
     "output_type": "stream",
     "text": [
      "Number of unique labels in y_train: 3\n",
      "Unique labels in y_train: ['ingredient', 'quantity', 'unit']\n"
     ]
    }
   ],
   "execution_count": 372
  },
  {
   "cell_type": "markdown",
   "source": [
    "## **4** Exploratory Recipe Data Analysis on Training Dataset <font color = red>[16 marks]</font> <br>"
   ],
   "metadata": {
    "id": "QFm46QrB4gmj"
   }
  },
  {
   "cell_type": "markdown",
   "source": [
    "#### **4.1** *Flatten the lists for input_tokens & pos_tokens* <font color = red>[2 marks]</font> <br>\n",
    "\n",
    "Define a function **flatten_list** for flattening the structure for input_tokens and pos_tokens. The input parameter passed to this function is a nested list.\n",
    "\n",
    "Initialise the dataset_name with a value ***'Training'***\n",
    "\n",
    "\n"
   ],
   "metadata": {
    "id": "KUWIp0n_NeH6"
   }
  },
  {
   "cell_type": "code",
   "source": [
    "# flatten the list for nested_list (input_tokens, pos_tokens)\n",
    "def flatten_list(nested_list):\n",
    "    flattened = []\n",
    "    for sublist in nested_list:\n",
    "        if isinstance(sublist, list):\n",
    "            flattened.extend(sublist)\n",
    "        else:\n",
    "            flattened.append(sublist)\n",
    "    return flattened\n"
   ],
   "metadata": {
    "id": "WzcY0gPiOe8o",
    "ExecuteTime": {
     "end_time": "2025-07-08T15:17:32.237556Z",
     "start_time": "2025-07-08T15:17:32.235485Z"
    }
   },
   "outputs": [],
   "execution_count": 373
  },
  {
   "cell_type": "code",
   "source": [
    "# initialise the dataset_name\n",
    "dataset_name = 'Training'"
   ],
   "metadata": {
    "id": "DXRda29gNBH8",
    "ExecuteTime": {
     "end_time": "2025-07-08T15:17:32.273363Z",
     "start_time": "2025-07-08T15:17:32.270654Z"
    }
   },
   "outputs": [],
   "execution_count": 374
  },
  {
   "cell_type": "markdown",
   "source": [
    "#### **4.2** *Extract and validate the tokens after using the flattening technique* <font color = red>[2 marks]</font> <br>\n",
    "\n",
    "Define a function named ***extract_and_validate_tokens*** with parameters dataframe and dataset_name (Training/Validation), validate the length of input_tokens and pos_tokens from dataframe and display first 10 records for both the input_tokens and pos_tokens. Execute this function\n",
    "\n",
    "\n"
   ],
   "metadata": {
    "id": "eGOqhd8OOr1E"
   }
  },
  {
   "cell_type": "code",
   "source": [
    "# define a extract_and_validate_tokens with parameters (df, dataset_name)\n",
    "# call the flatten_list and apply it on input_tokens and pos_tokens\n",
    "# validate their length and display first 10 records having input and pos tokens\n",
    "\n",
    "def extract_and_validate_tokens(df, dataset_name):\n",
    "    # Extract input_tokens and pos_tokens from dataframe\n",
    "    input_tokens_list = df['input_tokens'].tolist()\n",
    "    pos_tokens_list = df['pos_tokens'].tolist()\n",
    "\n",
    "    # Flatten the lists\n",
    "    tokens = flatten_list(input_tokens_list)\n",
    "    pos_tags = flatten_list(pos_tokens_list)\n",
    "\n",
    "    # Validate lengths\n",
    "    print(f\"{dataset_name} Dataset Token Analysis:\")\n",
    "    print(f\"Total recipes: {len(df)}\")\n",
    "    print(f\"Total tokens: {len(tokens)}\")\n",
    "    print(f\"Total POS tags: {len(pos_tags)}\")\n",
    "    print(f\"Length match: {len(tokens) == len(pos_tags)}\")\n",
    "\n",
    "    # Display first 10 records\n",
    "    print(f\"\\nFirst 10 tokens and their POS tags:\")\n",
    "    for i in range(min(10, len(tokens))):\n",
    "        print(f\"{i+1:2d}. Token: '{tokens[i]}' -> POS: '{pos_tags[i]}'\")\n",
    "\n",
    "    return tokens, pos_tags"
   ],
   "metadata": {
    "id": "H3GMX83xP7ja",
    "ExecuteTime": {
     "end_time": "2025-07-08T15:17:32.304770Z",
     "start_time": "2025-07-08T15:17:32.300684Z"
    }
   },
   "outputs": [],
   "execution_count": 375
  },
  {
   "cell_type": "code",
   "source": [
    "# extract the tokens and its pos tags\n",
    "tokens, pos_tags = extract_and_validate_tokens(train_df, dataset_name)"
   ],
   "metadata": {
    "id": "ajdbYMgeLpf9",
    "ExecuteTime": {
     "end_time": "2025-07-08T15:17:32.328756Z",
     "start_time": "2025-07-08T15:17:32.325669Z"
    }
   },
   "outputs": [
    {
     "name": "stdout",
     "output_type": "stream",
     "text": [
      "Training Dataset Token Analysis:\n",
      "Total recipes: 196\n",
      "Total tokens: 7114\n",
      "Total POS tags: 7114\n",
      "Length match: True\n",
      "\n",
      "First 10 tokens and their POS tags:\n",
      " 1. Token: '250' -> POS: 'quantity'\n",
      " 2. Token: 'grams' -> POS: 'unit'\n",
      " 3. Token: 'Okra' -> POS: 'ingredient'\n",
      " 4. Token: 'Oil' -> POS: 'ingredient'\n",
      " 5. Token: '1' -> POS: 'quantity'\n",
      " 6. Token: 'Onion' -> POS: 'ingredient'\n",
      " 7. Token: 'finely' -> POS: 'ingredient'\n",
      " 8. Token: 'chopped' -> POS: 'ingredient'\n",
      " 9. Token: 'Tomato' -> POS: 'ingredient'\n",
      "10. Token: 'Grated' -> POS: 'ingredient'\n"
     ]
    }
   ],
   "execution_count": 376
  },
  {
   "cell_type": "markdown",
   "source": [
    "#### **4.3** *Categorise tokens into labels (unit, ingredient, quantity)* <font color = red>[2 marks]</font> <br>\n",
    "\n",
    "Define a function ***categorize_tokens*** to categorise tokens into ingredients, units and quantities by using extracted tokens in the previous code and return a list of ingredients, units and quantities. Execute this function to get the list.\n",
    "\n"
   ],
   "metadata": {
    "id": "htZVn5wcQSok"
   }
  },
  {
   "cell_type": "code",
   "source": [
    "# define a categorize_tokens function and provide the tokens and pos_tags as parameters and create ingredient, unit and quantity list and return it\n",
    "# validate the list that it comprised of these labels, if not return empty arrays\n",
    "\n",
    "def categorize_tokens(tokens, pos_tags):\n",
    "    ingredients = []\n",
    "    units = []\n",
    "    quantities = []\n",
    "\n",
    "    # Validate that we have the expected labels\n",
    "    expected_labels = {'ingredient', 'unit', 'quantity'}\n",
    "    found_labels = set(pos_tags)\n",
    "\n",
    "    if not expected_labels.issubset(found_labels):\n",
    "        print(f\"Warning: Expected labels {expected_labels} not all found in data\")\n",
    "        print(f\"Found labels: {found_labels}\")\n",
    "\n",
    "    # Categorize tokens based on POS tags\n",
    "    for token, pos_tag in zip(tokens, pos_tags):\n",
    "        if pos_tag == 'ingredient':\n",
    "            ingredients.append(token)\n",
    "        elif pos_tag == 'unit':\n",
    "            units.append(token)\n",
    "        elif pos_tag == 'quantity':\n",
    "            quantities.append(token)\n",
    "\n",
    "    print(f\"Categorization Summary:\")\n",
    "    print(f\"Ingredients: {len(ingredients)}\")\n",
    "    print(f\"Units: {len(units)}\")\n",
    "    print(f\"Quantities: {len(quantities)}\")\n",
    "\n",
    "    return ingredients, units, quantities"
   ],
   "metadata": {
    "id": "7xq0a4L7Quct",
    "ExecuteTime": {
     "end_time": "2025-07-08T15:17:32.367053Z",
     "start_time": "2025-07-08T15:17:32.363356Z"
    }
   },
   "outputs": [],
   "execution_count": 377
  },
  {
   "cell_type": "code",
   "source": [
    "#  call the function to categorise the labels into respective list\n",
    "ingredients, units, quantities = categorize_tokens(tokens, pos_tags)"
   ],
   "metadata": {
    "id": "evcsigvUL7bM",
    "ExecuteTime": {
     "end_time": "2025-07-08T15:17:32.402067Z",
     "start_time": "2025-07-08T15:17:32.397676Z"
    }
   },
   "outputs": [
    {
     "name": "stdout",
     "output_type": "stream",
     "text": [
      "Categorization Summary:\n",
      "Ingredients: 5323\n",
      "Units: 811\n",
      "Quantities: 980\n"
     ]
    }
   ],
   "execution_count": 378
  },
  {
   "cell_type": "markdown",
   "source": [
    "#### **4.4** *Top 10 Most Frequent Items* <font color = red>[3 marks]</font> <br>\n",
    "\n",
    "Define a function ***get_top_frequent_items*** to display top 10 most frequent items\n",
    "\n",
    "Here, item_list is used as a general parameter where you will call this function for ingredient and unit list\n",
    "\n",
    "Execute this function separately for top 10 most units and ingredients\n",
    "\n"
   ],
   "metadata": {
    "id": "QSGau4EgZCix"
   }
  },
  {
   "cell_type": "code",
   "source": [
    "# define a function get_top_frequent_items to get the top frequent items by using item_list, pos label and dataset_name(Training/Validation) and return top items\n",
    "def get_top_frequent_items(item_list, pos_label, dataset_name, top_n=10):\n",
    "\n",
    "    if not item_list:\n",
    "        print(f\"No {pos_label} items found in {dataset_name} dataset\")\n",
    "        return []\n",
    "\n",
    "    # Count frequencies\n",
    "    item_counts = Counter(item_list)\n",
    "    top_items = item_counts.most_common(top_n)\n",
    "\n",
    "    print(f\"\\nTop {top_n} Most Frequent {pos_label.title()}s in {dataset_name} Dataset:\")\n",
    "    print(\"-\" * 50)\n",
    "    for i, (item, count) in enumerate(top_items, 1):\n",
    "        percentage = (count / len(item_list)) * 100\n",
    "        print(f\"{i:2d}. {item:<20} : {count:4d} ({percentage:5.1f}%)\")\n",
    "\n",
    "    return top_items"
   ],
   "metadata": {
    "id": "kXc8h3H4ZOZ4",
    "ExecuteTime": {
     "end_time": "2025-07-08T15:17:32.440920Z",
     "start_time": "2025-07-08T15:17:32.438212Z"
    }
   },
   "outputs": [],
   "execution_count": 379
  },
  {
   "cell_type": "code",
   "source": [
    "# get the top ingredients which are frequently seen in the recipe\n",
    "top_ingredients = get_top_frequent_items(ingredients, 'ingredient', dataset_name)"
   ],
   "metadata": {
    "id": "W2jZCCf2MEke",
    "ExecuteTime": {
     "end_time": "2025-07-08T15:17:32.477186Z",
     "start_time": "2025-07-08T15:17:32.474225Z"
    }
   },
   "outputs": [
    {
     "name": "stdout",
     "output_type": "stream",
     "text": [
      "\n",
      "Top 10 Most Frequent Ingredients in Training Dataset:\n",
      "--------------------------------------------------\n",
      " 1. powder               :  129 (  2.4%)\n",
      " 2. Salt                 :  102 (  1.9%)\n",
      " 3. seeds                :   89 (  1.7%)\n",
      " 4. Green                :   85 (  1.6%)\n",
      " 5. chopped              :   84 (  1.6%)\n",
      " 6. Oil                  :   83 (  1.6%)\n",
      " 7. Red                  :   81 (  1.5%)\n",
      " 8. Chilli               :   77 (  1.4%)\n",
      " 9. Coriander            :   71 (  1.3%)\n",
      "10. Sunflower            :   65 (  1.2%)\n"
     ]
    }
   ],
   "execution_count": 380
  },
  {
   "cell_type": "code",
   "source": [
    "# get the top units which are frequently seen in the recipe\n",
    "top_units = get_top_frequent_items(units, 'unit', dataset_name)"
   ],
   "metadata": {
    "id": "wipghGXAMYQR",
    "ExecuteTime": {
     "end_time": "2025-07-08T15:17:32.512778Z",
     "start_time": "2025-07-08T15:17:32.510324Z"
    }
   },
   "outputs": [
    {
     "name": "stdout",
     "output_type": "stream",
     "text": [
      "\n",
      "Top 10 Most Frequent Units in Training Dataset:\n",
      "--------------------------------------------------\n",
      " 1. teaspoon             :  162 ( 20.0%)\n",
      " 2. cup                  :  136 ( 16.8%)\n",
      " 3. tablespoon           :   99 ( 12.2%)\n",
      " 4. grams                :   63 (  7.8%)\n",
      " 5. tablespoons          :   61 (  7.5%)\n",
      " 6. inch                 :   52 (  6.4%)\n",
      " 7. cups                 :   50 (  6.2%)\n",
      " 8. sprig                :   41 (  5.1%)\n",
      " 9. cloves               :   39 (  4.8%)\n",
      "10. teaspoons            :   39 (  4.8%)\n"
     ]
    }
   ],
   "execution_count": 381
  },
  {
   "cell_type": "markdown",
   "source": [
    "#### **4.5** *Plot Top 10 most frequent items* <font color = red>[2 marks]</font> <br>\n",
    "\n",
    "\n"
   ],
   "metadata": {
    "id": "9hldpjOHaPVZ"
   }
  },
  {
   "cell_type": "markdown",
   "source": [
    "Define a function ***plot_top_items*** to plot a bar graph on top 10 most frequent items for units and ingredients\n",
    "\n",
    "Here, item_list is used as a general parameter where you will call this function for ingredient and unit list"
   ],
   "metadata": {
    "id": "9ImpWstybDP_"
   }
  },
  {
   "cell_type": "code",
   "source": [
    "# define plot top items with parameters - top_item list, label to suggest whether its ingredient or unit, dataset_name\n",
    "def plot_top_items(top_items, label, dataset_name):\n",
    "    if not top_items:\n",
    "        print(f\"No data to plot for {label}\")\n",
    "        return\n",
    "\n",
    "    # Extract items and frequencies\n",
    "    items = [item for item, freq in top_items]\n",
    "    frequencies = [freq for item, freq in top_items]\n",
    "\n",
    "    # Create the plot\n",
    "    plt.figure(figsize=(12, 6))\n",
    "    bars = plt.bar(range(len(items)), frequencies, color='skyblue', alpha=0.8)\n",
    "\n",
    "    # Customize the plot\n",
    "    plt.title(f'Top {len(items)} Most Frequent {label.title()}s in {dataset_name} Dataset',\n",
    "              fontsize=14, fontweight='bold')\n",
    "    plt.xlabel(f'{label.title()}s', fontsize=12)\n",
    "    plt.ylabel('Frequency', fontsize=12)\n",
    "    plt.xticks(range(len(items)), items, rotation=45, ha='right')\n",
    "\n",
    "    # Add value labels on bars\n",
    "    for bar, freq in zip(bars, frequencies):\n",
    "        plt.text(bar.get_x() + bar.get_width()/2, bar.get_height() + 0.5,\n",
    "                str(freq), ha='center', va='bottom')\n",
    "\n",
    "    plt.tight_layout()\n",
    "    plt.grid(axis='y', alpha=0.3)\n",
    "    plt.show()"
   ],
   "metadata": {
    "id": "Gmsq0L1vaxfc",
    "ExecuteTime": {
     "end_time": "2025-07-08T15:17:32.550464Z",
     "start_time": "2025-07-08T15:17:32.546692Z"
    }
   },
   "outputs": [],
   "execution_count": 382
  },
  {
   "cell_type": "markdown",
   "source": [
    "#### **4.6** *Perform EDA analysis* <font color = red>[5 marks]</font> <br>\n",
    "\n",
    "Plot the bar plots for ingredients and units and provide the insights for training dataset\n",
    "\n",
    "---\n",
    "\n"
   ],
   "metadata": {
    "id": "rHusCfkJ4suh"
   }
  },
  {
   "cell_type": "code",
   "source": [
    "# plot the top frequent ingredients in training data\n",
    "plot_top_items(top_ingredients, 'ingredient', dataset_name)"
   ],
   "metadata": {
    "id": "8seIqFKyYFmn",
    "ExecuteTime": {
     "end_time": "2025-07-08T15:17:32.654669Z",
     "start_time": "2025-07-08T15:17:32.591462Z"
    }
   },
   "outputs": [
    {
     "data": {
      "text/plain": [
       "<Figure size 1200x600 with 1 Axes>"
      ],
      "image/png": "[encoded data removed]"
     },
     "metadata": {},
     "output_type": "display_data"
    }
   ],
   "execution_count": 383
  },
  {
   "cell_type": "code",
   "source": [
    "# plot the top frequent units in training data\n",
    "plot_top_items(top_units, 'unit', dataset_name)"
   ],
   "metadata": {
    "id": "fbXAwiUkMtqT",
    "ExecuteTime": {
     "end_time": "2025-07-08T15:17:32.755857Z",
     "start_time": "2025-07-08T15:17:32.687237Z"
    }
   },
   "outputs": [
    {
     "data": {
      "text/plain": [
       "<Figure size 1200x600 with 1 Axes>"
      ],
      "image/png": "[encoded data removed]"
     },
     "metadata": {},
     "output_type": "display_data"
    }
   ],
   "execution_count": 384
  },
  {
   "cell_type": "markdown",
   "source": [
    "## **5** Exploratory Recipe Data Analysis on Validation Dataset (Optional)<font color = red> [0 marks]</font> <br>"
   ],
   "metadata": {
    "id": "vYh7zbJpCajJ"
   }
  },
  {
   "cell_type": "markdown",
   "source": [
    "#### **5.1** *Execute EDA on Validation Dataset with insights (Optional)* <font color = red> [0 marks]</font> <br>\n",
    "Initialise the dataset_name as ***Validation*** and call the ***plot_top_items*** for top 10 ingredients and units in the recipe data\n",
    "Provide the insights for the same.\n",
    "\n"
   ],
   "metadata": {
    "id": "K2wPIaOGCmk2"
   }
  },
  {
   "cell_type": "code",
   "source": [
    "# initialise the dataset_name\n",
    "val_dataset_name = 'Validation'"
   ],
   "metadata": {
    "id": "atSk0ChLPXHd",
    "ExecuteTime": {
     "end_time": "2025-07-08T15:17:32.777683Z",
     "start_time": "2025-07-08T15:17:32.776030Z"
    }
   },
   "outputs": [],
   "execution_count": 385
  },
  {
   "cell_type": "code",
   "source": [
    "# use extract and validate tokens, categorise tokens, get top frequent items for ingredient list and unit list on validation dataframe\n",
    "val_tokens, val_pos_tags = extract_and_validate_tokens(val_df, val_dataset_name)\n",
    "val_ingredients, val_units, val_quantities = categorize_tokens(val_tokens, val_pos_tags)\n",
    "val_top_ingredients = get_top_frequent_items(val_ingredients, 'ingredient', val_dataset_name)\n",
    "val_top_units = get_top_frequent_items(val_units, 'unit', val_dataset_name)"
   ],
   "metadata": {
    "id": "AFPxheIuj1o8",
    "ExecuteTime": {
     "end_time": "2025-07-08T15:17:32.816152Z",
     "start_time": "2025-07-08T15:17:32.811170Z"
    }
   },
   "outputs": [
    {
     "name": "stdout",
     "output_type": "stream",
     "text": [
      "Validation Dataset Token Analysis:\n",
      "Total recipes: 84\n",
      "Total tokens: 2876\n",
      "Total POS tags: 2876\n",
      "Length match: True\n",
      "\n",
      "First 10 tokens and their POS tags:\n",
      " 1. Token: '1' -> POS: 'quantity'\n",
      " 2. Token: 'cup' -> POS: 'unit'\n",
      " 3. Token: 'Ada' -> POS: 'ingredient'\n",
      " 4. Token: '2' -> POS: 'quantity'\n",
      " 5. Token: 'liter' -> POS: 'unit'\n",
      " 6. Token: 'Milk' -> POS: 'ingredient'\n",
      " 7. Token: '3/4' -> POS: 'quantity'\n",
      " 8. Token: 'Sugar' -> POS: 'ingredient'\n",
      " 9. Token: 'tablespoon' -> POS: 'unit'\n",
      "10. Token: 'Ghee' -> POS: 'ingredient'\n",
      "Categorization Summary:\n",
      "Ingredients: 2107\n",
      "Units: 358\n",
      "Quantities: 411\n",
      "\n",
      "Top 10 Most Frequent Ingredients in Validation Dataset:\n",
      "--------------------------------------------------\n",
      " 1. powder               :   54 (  2.6%)\n",
      " 2. Salt                 :   47 (  2.2%)\n",
      " 3. Oil                  :   39 (  1.9%)\n",
      " 4. Red                  :   39 (  1.9%)\n",
      " 5. seeds                :   36 (  1.7%)\n",
      " 6. Chilli               :   36 (  1.7%)\n",
      " 7. chopped              :   31 (  1.5%)\n",
      " 8. Green                :   30 (  1.4%)\n",
      " 9. Leaves               :   29 (  1.4%)\n",
      "10. Coriander            :   27 (  1.3%)\n",
      "\n",
      "Top 10 Most Frequent Units in Validation Dataset:\n",
      "--------------------------------------------------\n",
      " 1. teaspoon             :   59 ( 16.5%)\n",
      " 2. cup                  :   57 ( 15.9%)\n",
      " 3. tablespoon           :   32 (  8.9%)\n",
      " 4. tablespoons          :   32 (  8.9%)\n",
      " 5. cups                 :   24 (  6.7%)\n",
      " 6. sprig                :   21 (  5.9%)\n",
      " 7. inch                 :   20 (  5.6%)\n",
      " 8. grams                :   19 (  5.3%)\n",
      " 9. teaspoons            :   18 (  5.0%)\n",
      "10. cloves               :   16 (  4.5%)\n"
     ]
    }
   ],
   "execution_count": 386
  },
  {
   "cell_type": "code",
   "source": [
    "# plot the top frequent ingredients in validation data\n",
    "plot_top_items(val_top_ingredients, 'ingredient', val_dataset_name)"
   ],
   "metadata": {
    "id": "ikwox7ccMaU8",
    "ExecuteTime": {
     "end_time": "2025-07-08T15:17:32.919910Z",
     "start_time": "2025-07-08T15:17:32.849933Z"
    }
   },
   "outputs": [
    {
     "data": {
      "text/plain": [
       "<Figure size 1200x600 with 1 Axes>"
      ],
      "image/png": "[encoded data removed]"
     },
     "metadata": {},
     "output_type": "display_data"
    }
   ],
   "execution_count": 387
  },
  {
   "cell_type": "code",
   "source": [
    "# plot the top frequent units in training data\n",
    "plot_top_items(val_top_units, 'unit', val_dataset_name)"
   ],
   "metadata": {
    "id": "9QjVeMWpPwKO",
    "ExecuteTime": {
     "end_time": "2025-07-08T15:17:33.016051Z",
     "start_time": "2025-07-08T15:17:32.955056Z"
    }
   },
   "outputs": [
    {
     "data": {
      "text/plain": [
       "<Figure size 1200x600 with 1 Axes>"
      ],
      "image/png": "[encoded data removed]"
     },
     "metadata": {},
     "output_type": "display_data"
    }
   ],
   "execution_count": 388
  },
  {
   "cell_type": "markdown",
   "source": [
    "## **6** Feature Extraction For CRF Model <font color = red>[30 marks]</font> <br>"
   ],
   "metadata": {
    "id": "IvE92ait9GIS"
   }
  },
  {
   "cell_type": "markdown",
   "source": [
    "### **6.1** *Define a feature functions to take each token from recipe* <font color = red>[10 marks]</font>\n",
    "\n",
    "Define a function as ***word2features*** which takes a particular recipe and its index to work with all recipe input tokens and include custom key-value pairs.\n",
    "\n",
    "Also, use feature key-value pairs to mark the beginning and end of the sequence and to also check whether the word belongs to unit, quantity etc. Use keyword sets for unit and quantity for differentiating feature functions well. Also make use of relevant regex patterns on fractions, whole numbers etc."
   ],
   "metadata": {
    "id": "Gc5Q_Lj09GIT"
   }
  },
  {
   "cell_type": "markdown",
   "source": [
    "##### **6.1.1** **Define keywords for unit and quantity and create a quantity pattern to work on fractions, numbers and decimals** <font color = red>[3 marks]</font> <br>\n",
    "\n",
    "Create sets for **unit_keywords** and ***quantity_keywords*** and include all the words relevant for measuring the ingredients such as cup, tbsp, tsp etc. and in quantity keywords, include words such as half, quarter etc.\n",
    "\n",
    "Also suggested to use regex pattern as ***quantity_pattern*** to work with quantity in any format such as fractions, numbers and decimals.\n",
    "\n",
    "Then, load the spacy model and process the entire sentence"
   ],
   "metadata": {
    "id": "pyxmQ0PrhBra"
   }
  },
  {
   "cell_type": "code",
   "source": [
    "# define unit and quantity keywords along with quantity pattern\n",
    "unit_keywords = {\n",
    "    # Volume measurements\n",
    "    'cup', 'cups', 'c', 'tablespoon', 'tablespoons', 'tbsp', 'tb', 'tbs',\n",
    "    'teaspoon', 'teaspoons', 'tsp', 'tp', 'pint', 'pints', 'pt', 'pts',\n",
    "    'quart', 'quarts', 'qt', 'qts', 'gallon', 'gallons', 'gal', 'gals',\n",
    "    'liter', 'liters', 'litre', 'litres', 'l', 'ml', 'milliliter', 'milliliters',\n",
    "    'millilitre', 'millilitres', 'fluid ounce', 'fluid ounces', 'fl oz', 'floz',\n",
    "\n",
    "    # Weight measurements\n",
    "    'pound', 'pounds', 'lb', 'lbs', 'ounce', 'ounces', 'oz', 'gram', 'grams', 'g',\n",
    "    'kilogram', 'kilograms', 'kg', 'ton', 'tons',\n",
    "\n",
    "    # Other measurements\n",
    "    'inch', 'inches', 'piece', 'pieces', 'slice', 'slices', 'clove', 'cloves',\n",
    "    'bunch', 'bunches', 'head', 'heads', 'can', 'cans', 'jar', 'jars',\n",
    "    'package', 'packages', 'bag', 'bags', 'box', 'boxes', 'bottle', 'bottles',\n",
    "    'stick', 'sticks', 'sheet', 'sheets', 'strip', 'strips'\n",
    "}\n",
    "\n",
    "quantity_keywords = {\n",
    "    # Descriptive quantities\n",
    "    'half', 'quarter', 'third', 'whole', 'dozen', 'few', 'several', 'some',\n",
    "    'little', 'bit', 'pinch', 'dash', 'splash', 'handful', 'scoop',\n",
    "    'generous', 'heaping', 'level', 'rounded', 'packed', 'loose',\n",
    "\n",
    "    # Numeric words\n",
    "    'one', 'two', 'three', 'four', 'five', 'six', 'seven', 'eight', 'nine', 'ten',\n",
    "    'eleven', 'twelve', 'thirteen', 'fourteen', 'fifteen', 'sixteen', 'seventeen',\n",
    "    'eighteen', 'nineteen', 'twenty'\n",
    "}\n",
    "\n",
    "# Regex pattern for quantities (fractions, decimals, whole numbers)\n",
    "quantity_pattern = re.compile(r'''\n",
    "    (?:\n",
    "        \\d+(?:\\.\\d+)?          # Decimal numbers (1.5, 2.0, 3)\n",
    "        |\n",
    "        \\d+/\\d+                # Fractions (1/2, 3/4)\n",
    "        |\n",
    "        \\d+-\\d+/\\d+            # Mixed numbers (1-1/2, 2-3/4)\n",
    "        |\n",
    "        \\d+\\s*-\\s*\\d+          # Ranges (2-3, 1-2)\n",
    "    )\n",
    "''', re.VERBOSE)"
   ],
   "metadata": {
    "id": "GhFUPxeth0KI",
    "ExecuteTime": {
     "end_time": "2025-07-08T15:17:33.046752Z",
     "start_time": "2025-07-08T15:17:33.038822Z"
    }
   },
   "outputs": [],
   "execution_count": 389
  },
  {
   "cell_type": "code",
   "source": [
    "# load spaCy model\n",
    "try:\n",
    "    nlp = spacy.load(\"en_core_web_sm\")\n",
    "    print(\"spaCy model loaded successfully\")\n",
    "except OSError:\n",
    "    print(\"spaCy model not found. Installing...\")\n",
    "    import subprocess\n",
    "    subprocess.run([\"python\", \"-m\", \"spacy\", \"download\", \"en_core_web_sm\"])\n",
    "    nlp = spacy.load(\"en_core_web_sm\")\n",
    "    print(\"spaCy model installed and loaded\")"
   ],
   "metadata": {
    "id": "9qmM8rw4VtJh",
    "ExecuteTime": {
     "end_time": "2025-07-08T15:17:33.408785Z",
     "start_time": "2025-07-08T15:17:33.073993Z"
    }
   },
   "outputs": [
    {
     "name": "stdout",
     "output_type": "stream",
     "text": [
      "spaCy model loaded successfully\n"
     ]
    }
   ],
   "execution_count": 390
  },
  {
   "cell_type": "markdown",
   "source": [
    "##### **6.1.2** **Define feature functions for CRF** <font color = red>[7 marks]</font> <br>\n",
    "\n",
    "Define ***word2features*** function and use the parameters such as sentence and its indexing as ***sent*** and ***i*** for extracting token level features for CRF Training.\n",
    "Build ***features*** dictionary, also mark the beginning and end of the sequence and use the ***unit_keywords***, ***quantity_keywords*** and ***quantity_pattern*** for knowing the presence of quantity or unit in the tokens"
   ],
   "metadata": {
    "id": "vrYD5tMNiFc-"
   }
  },
  {
   "cell_type": "markdown",
   "source": [
    "While building ***features*** dictionary, include\n",
    "- ***Core Features*** - The core features of a token should capture its lexical\n",
    "and grammatical properties. Include attributes like the raw token, its lemma, part-of-speech tag, dependency relation, and shape, as well as indicators for whether it's a stop word, digit, or punctuation. The details of the features are given below:\n",
    "\n",
    "    - `bias` - Constant feature with a fixed value of 1.0 to aid model learning.\n",
    "    - `token` - The lowercase form of the current token.\n",
    "    - `lemma` - The lowercase lemma (base form) of the token.\n",
    "    - `pos_tag` - Part-of-speech (POS) tag of the token.\n",
    "    - `tag` - Detailed POS tag of the token.\n",
    "    - `dep` - Dependency relation of the token in the sentence.\n",
    "    - `shape` - Shape of the token (e.g., \"Xxx\" for \"Milk\").\n",
    "    - `is_stop` - Boolean indicating if the token is a stopword.\n",
    "    - `is_digit` - Boolean indicating if the token consists of only digits.\n",
    "    - `has_digit` - Boolean indicating if the token contains at least one digit.\n",
    "    - `has_alpha` - Boolean indicating if the token contains at least one alphabetic character.\n",
    "    - `hyphenated` - Boolean indicating if the token contains a hyphen (-).\n",
    "    - `slash_present` - Boolean indicating if the token contains a slash (/).\n",
    "    - `is_title` - Boolean indicating if the token starts with an uppercase letter.\n",
    "    - `is_upper` - Boolean indicating if the token is fully uppercase.\n",
    "    - `is_punct` - Boolean indicating if the token is a punctuation mark.\n",
    "\n",
    "- ***Improved Quantity and Unit Detection*** - Use key-value pairs to mark the presence of quantities and units in the features dictionary. Utilise the unit_keywords, quantity_keywords, and quantity_pattern to identify and flag these elements. The details of the features are given below:\n",
    "\n",
    "    - `is_quantity` - Boolean indicating if the token matches a quantity pattern or keyword.\n",
    "    - `is_unit` - Boolean indicating if the token is a known measurement unit.\n",
    "    - `is_numeric` - Boolean indicating if the token matches a numeric pattern.\n",
    "    - `is_fraction` - Boolean indicating if the token represents a fraction (e.g., 1/2).\n",
    "    - `is_decimal` - Boolean indicating if the token represents a decimal number (e.g., 3.14).\n",
    "    - `preceding_word` - The previous token in the sentence, if available.\n",
    "    - `following_word` - The next token in the sentence, if available.\n",
    "\n",
    "- ***Contextual Features*** - Incorporate contextual information by adding features for the preceding and following tokens. Include indicators like BOS and EOS to mark the beginning and end of the sequence, and utilise unit_keywords, quantity_keywords, and quantity_pattern to identify the types of neighboring tokens. The features are given below:\n",
    "\n",
    "    - `prev_token` - The lowercase form of the previous token.\n",
    "    - `prev_is_quantity` - Boolean indicating if the previous token is a quantity.\n",
    "    - `prev_is_digit` - Boolean indicating if the previous token is a digit.\n",
    "    - `BOS` - Boolean indicating if the token is at the beginning of the sentence.\n",
    "    - `next_token` - The lowercase form of the next token.\n",
    "    - `next_is_unit` - Boolean indicating if the next token is a unit.\n",
    "    - `next_is_ingredient` - Boolean indicating if the next token is not a unit or quantity.\n",
    "    - `EOS` - Boolean indicating if the token is at the end of the sentence.\n",
    "\n"
   ],
   "metadata": {
    "id": "yAjf6j-dQtpr"
   }
  },
  {
   "cell_type": "code",
   "source": [
    "# define word2features for processing each token in the sentence sent by using index i.\n",
    "# use your own feature functions\n",
    "def word2features(sent, i):\n",
    "    # Process the entire sentence with spaCy\n",
    "    doc = nlp(\" \".join(sent))\n",
    "    tokens = list(doc)\n",
    "\n",
    "    # Ensure we have the right token\n",
    "    if i >= len(tokens):\n",
    "        token = doc[-1]  # Use last token if index is out of bounds\n",
    "    else:\n",
    "        token = tokens[i]\n",
    "\n",
    "    word = sent[i]\n",
    "\n",
    "    # Initialize features dictionary\n",
    "    features = {}\n",
    "    # --- Core Features ---\n",
    "\n",
    "    features['bias'] = 1.0\n",
    "    features['token'] = word.lower()\n",
    "    features['lemma'] = token.lemma_.lower() if hasattr(token, 'lemma_') else word.lower()\n",
    "    features['pos_tag'] = token.pos_ if hasattr(token, 'pos_') else 'UNKNOWN'\n",
    "    features['tag'] = token.tag_ if hasattr(token, 'tag_') else 'UNKNOWN'\n",
    "    features['dep'] = token.dep_ if hasattr(token, 'dep_') else 'UNKNOWN'\n",
    "    features['shape'] = token.shape_ if hasattr(token, 'shape_') else 'UNKNOWN'\n",
    "    features['is_stop'] = token.is_stop if hasattr(token, 'is_stop') else False\n",
    "    features['is_digit'] = word.isdigit()\n",
    "    features['has_digit'] = bool(re.search(r'\\d', word))\n",
    "    features['has_alpha'] = bool(re.search(r'[a-zA-Z]', word))\n",
    "    features['hyphenated'] = '-' in word\n",
    "    features['slash_present'] = '/' in word\n",
    "    features['is_title'] = word.istitle()\n",
    "    features['is_upper'] = word.isupper()\n",
    "    features['is_punct'] = token.is_punct if hasattr(token, 'is_punct') else word in '.,!?;:'\n",
    "\n",
    "    # --- Improved Quantity & Unit Detection ---\n",
    "    features['is_quantity'] = (\n",
    "        bool(quantity_pattern.match(word)) or\n",
    "        word.lower() in quantity_keywords or\n",
    "        word.isdigit()\n",
    "    )\n",
    "    features['is_unit'] = word.lower() in unit_keywords\n",
    "    features['is_numeric'] = bool(re.match(r'^\\d+(\\.\\d+)?$', word))\n",
    "    features['is_fraction'] = bool(re.match(r'^\\d+/\\d+$', word))\n",
    "    features['is_decimal'] = bool(re.match(r'^\\d+\\.\\d+$', word))\n",
    "\n",
    "    # Preceding and following words\n",
    "    if i > 0:\n",
    "        features['preceding_word'] = sent[i-1].lower()\n",
    "    else:\n",
    "        features['preceding_word'] = '<START>'\n",
    "\n",
    "    if i < len(sent) - 1:\n",
    "        features['following_word'] = sent[i+1].lower()\n",
    "    else:\n",
    "        features['following_word'] = '<END>'\n",
    "    # --- Contextual Features ---\n",
    "    # Previous token features\n",
    "    if i > 0:\n",
    "        prev_word = sent[i-1]\n",
    "        features['prev_token'] = prev_word.lower()\n",
    "        features['prev_is_quantity'] = (\n",
    "            bool(quantity_pattern.match(prev_word)) or\n",
    "            prev_word.lower() in quantity_keywords or\n",
    "            prev_word.isdigit()\n",
    "        )\n",
    "        features['prev_is_digit'] = prev_word.isdigit()\n",
    "        features['BOS'] = False\n",
    "    else:\n",
    "        features['prev_token'] = '<BOS>'\n",
    "        features['prev_is_quantity'] = False\n",
    "        features['prev_is_digit'] = False\n",
    "        features['BOS'] = True\n",
    "\n",
    "    # Next token features\n",
    "    if i < len(sent) - 1:\n",
    "        next_word = sent[i+1]\n",
    "        features['next_token'] = next_word.lower()\n",
    "        features['next_is_unit'] = next_word.lower() in unit_keywords\n",
    "        features['next_is_ingredient'] = (\n",
    "            next_word.lower() not in unit_keywords and\n",
    "            not bool(quantity_pattern.match(next_word)) and\n",
    "            next_word.lower() not in quantity_keywords\n",
    "        )\n",
    "        features['EOS'] = False\n",
    "    else:\n",
    "        features['next_token'] = '<EOS>'\n",
    "        features['next_is_unit'] = False\n",
    "        features['next_is_ingredient'] = False\n",
    "        features['EOS'] = True\n",
    "\n",
    "    return features\n"
   ],
   "metadata": {
    "id": "pRU7efTF9GIW",
    "ExecuteTime": {
     "end_time": "2025-07-08T15:17:33.438366Z",
     "start_time": "2025-07-08T15:17:33.432311Z"
    }
   },
   "outputs": [],
   "execution_count": 391
  },
  {
   "cell_type": "markdown",
   "source": [
    "### **6.2** *Preparation of Recipe level features* <font color = red>[2 marks]</font>\n"
   ],
   "metadata": {
    "id": "hJm2nUw0998s"
   }
  },
  {
   "cell_type": "markdown",
   "source": [
    "##### **6.2.1** **Define function to work on all the recipes and call word2features for each recipe** <font color = red>[2 marks]</font> <br>\n",
    "\n",
    "Define ***sent2features*** function and inputs ***sent*** as a parameter and correctly generate feature functions for each token present in the sentence"
   ],
   "metadata": {
    "id": "KL19ooQejA5z"
   }
  },
  {
   "cell_type": "code",
   "source": [
    "# define sent2features by working on each token in the sentence and correctly generate dictionaries for features\n",
    "def sent2features(sent):\n",
    "    return [word2features(sent, i) for i in range(len(sent))]"
   ],
   "metadata": {
    "id": "NlQEifz-9GIW",
    "ExecuteTime": {
     "end_time": "2025-07-08T15:17:33.468271Z",
     "start_time": "2025-07-08T15:17:33.465586Z"
    }
   },
   "outputs": [],
   "execution_count": 392
  },
  {
   "cell_type": "markdown",
   "source": [
    "### **6.3** *Convert X_train, X_val, y_train and y_val into train and validation feature sets and labels* <font color = red>[6 marks]</font>\n",
    "\n"
   ],
   "metadata": {
    "id": "FOK0t3c6-RiV"
   }
  },
  {
   "cell_type": "markdown",
   "source": [
    "##### **6.3.1** **Convert recipe into feature functions by using X_train and X_val** <font color = red>[2 marks]</font> <br>\n",
    "\n",
    "Create ***X_train_features*** and ***X_val_features*** as list to include the feature functions for each recipe present in training and validation sets"
   ],
   "metadata": {
    "id": "7tsd50b_nX0J"
   }
  },
  {
   "cell_type": "code",
   "source": [
    "# Convert input sentences into feature sets by taking training and validation dataset as X_train_features and X_val_features\n",
    "print(\"Converting training data to features...\")\n",
    "X_train_features = [sent2features(sent) for sent in X_train]\n",
    "\n",
    "print(\"Converting validation data to features...\")\n",
    "X_val_features = [sent2features(sent) for sent in X_val]\n",
    "\n",
    "print(f\"Feature extraction completed\")\n",
    "print(f\"Training features shape: {len(X_train_features)} recipes\")\n",
    "print(f\"Validation features shape: {len(X_val_features)} recipes\")"
   ],
   "metadata": {
    "id": "-bVPGPa39GIW",
    "ExecuteTime": {
     "end_time": "2025-07-08T15:18:47.773907Z",
     "start_time": "2025-07-08T15:17:33.491471Z"
    }
   },
   "outputs": [
    {
     "name": "stdout",
     "output_type": "stream",
     "text": [
      "Converting training data to features...\n",
      "Converting validation data to features...\n",
      "Feature extraction completed\n",
      "Training features shape: 196 recipes\n",
      "Validation features shape: 84 recipes\n"
     ]
    }
   ],
   "execution_count": 393
  },
  {
   "cell_type": "markdown",
   "source": [
    "##### **6.3.2** **Convert lables of y_train and y_val into list** <font color = red>[2 marks]</font> <br>\n",
    "\n",
    "Create ***y_train_labels*** and ***y_val_labels*** by using the list of y_train and y_val"
   ],
   "metadata": {
    "id": "jcwmwXn-n6cs"
   }
  },
  {
   "cell_type": "code",
   "source": [
    "# Convert labels into list as y_train_labels and y_val_labels\n",
    "y_train_labels = y_train\n",
    "y_val_labels = y_val"
   ],
   "metadata": {
    "id": "TiGgP3O6nfPg",
    "ExecuteTime": {
     "end_time": "2025-07-08T15:18:47.796186Z",
     "start_time": "2025-07-08T15:18:47.794126Z"
    }
   },
   "outputs": [],
   "execution_count": 394
  },
  {
   "cell_type": "markdown",
   "source": [
    "##### **6.3.3** **Print the length of val and train features and labels** <font color = red>[2 marks]</font> <br>\n",
    "\n"
   ],
   "metadata": {
    "id": "4c-kjqtaoZvb"
   }
  },
  {
   "cell_type": "code",
   "source": [
    "# print the length of train features and labels\n",
    "print(f\"\\nTraining Set:\")\n",
    "print(f\"  Features: {len(X_train_features)} recipes\")\n",
    "print(f\"  Labels: {len(y_train_labels)} recipe sequences\")\n",
    "print(f\"  Sample feature keys: {list(X_train_features[0][0].keys())[:10]}...\")"
   ],
   "metadata": {
    "id": "mWId2Nn0okMV",
    "ExecuteTime": {
     "end_time": "2025-07-08T15:18:47.833356Z",
     "start_time": "2025-07-08T15:18:47.829563Z"
    }
   },
   "outputs": [
    {
     "name": "stdout",
     "output_type": "stream",
     "text": [
      "\n",
      "Training Set:\n",
      "  Features: 196 recipes\n",
      "  Labels: 196 recipe sequences\n",
      "  Sample feature keys: ['bias', 'token', 'lemma', 'pos_tag', 'tag', 'dep', 'shape', 'is_stop', 'is_digit', 'has_digit']...\n"
     ]
    }
   ],
   "execution_count": 395
  },
  {
   "cell_type": "code",
   "source": [
    "# print the length of validation features and labels\n",
    "print(f\"\\nValidation Set:\")\n",
    "print(f\"  Features: {len(X_val_features)} recipes\")\n",
    "print(f\"  Labels: {len(y_val_labels)} recipe sequences\")"
   ],
   "metadata": {
    "id": "LAt_m_LubRvn",
    "ExecuteTime": {
     "end_time": "2025-07-08T15:18:47.873300Z",
     "start_time": "2025-07-08T15:18:47.869654Z"
    }
   },
   "outputs": [
    {
     "name": "stdout",
     "output_type": "stream",
     "text": [
      "\n",
      "Validation Set:\n",
      "  Features: 84 recipes\n",
      "  Labels: 84 recipe sequences\n"
     ]
    }
   ],
   "execution_count": 396
  },
  {
   "cell_type": "markdown",
   "source": [
    "### **6.4** *Applying weights to feature sets* <font color = red>[12 marks]</font> <br>\n",
    "\n",
    "\n"
   ],
   "metadata": {
    "id": "dZffFBH-pVhx"
   }
  },
  {
   "cell_type": "markdown",
   "source": [
    "##### **6.4.1** **Flatten the labels of y_train** <font color = red>[2 marks]</font> <br>\n",
    "\n",
    "Create ***y_train_flat*** to flatten the structure of nested y_train"
   ],
   "metadata": {
    "id": "Goh_fX-6pqhN"
   }
  },
  {
   "cell_type": "code",
   "source": [
    "# Flatten labels in y_train\n",
    "y_train_flat = flatten_list(y_train_labels)\n",
    "print(f\"Flattened training labels: {len(y_train_flat)} total labels\")"
   ],
   "metadata": {
    "id": "adLWfYn_p3gM",
    "ExecuteTime": {
     "end_time": "2025-07-08T15:18:47.910338Z",
     "start_time": "2025-07-08T15:18:47.907032Z"
    }
   },
   "outputs": [
    {
     "name": "stdout",
     "output_type": "stream",
     "text": [
      "Flattened training labels: 7114 total labels\n"
     ]
    }
   ],
   "execution_count": 397
  },
  {
   "cell_type": "markdown",
   "source": [
    "##### **6.4.2** **Count the labels present in training target dataset** <font color = red>[2 marks]</font> <br>\n",
    "\n",
    "Create ***label_counts*** to count the frequencies of labels present in y_train_flat and retrieve the total samples by using the values of label_counts as ***total_samples***"
   ],
   "metadata": {
    "id": "qk9UMBrbp9dp"
   }
  },
  {
   "cell_type": "code",
   "source": [
    "# Count label frequencies as label_counts and total_samples as getting the summation of values of label_counts\n",
    "label_counts = Counter(y_train_flat)\n",
    "total_samples = sum(label_counts.values())\n",
    "\n",
    "print(f\"\\nLabel Distribution in Training Data:\")\n",
    "print(f\"Total samples: {total_samples}\")\n",
    "for label, count in label_counts.most_common():\n",
    "    percentage = (count / total_samples) * 100\n",
    "    print(f\"  {label}: {count:,} ({percentage:.2f}%)\")"
   ],
   "metadata": {
    "id": "6Kiu8jckqZSH",
    "ExecuteTime": {
     "end_time": "2025-07-08T15:18:47.947361Z",
     "start_time": "2025-07-08T15:18:47.944353Z"
    }
   },
   "outputs": [
    {
     "name": "stdout",
     "output_type": "stream",
     "text": [
      "\n",
      "Label Distribution in Training Data:\n",
      "Total samples: 7114\n",
      "  ingredient: 5,323 (74.82%)\n",
      "  quantity: 980 (13.78%)\n",
      "  unit: 811 (11.40%)\n"
     ]
    }
   ],
   "execution_count": 398
  },
  {
   "cell_type": "markdown",
   "source": [
    "##### **6.4.3** **Compute weight_dict by using inverse frequency method for label weights** <font color = red>[2 marks]</font> <br>\n",
    "\n",
    "- Create ***weight_dict*** as dictionary with label and its inverse frequency count in ***label_counts***\n",
    "\n",
    "- Penalise ingredient label in the dictionary"
   ],
   "metadata": {
    "id": "4aCmDsZYqYA-"
   }
  },
  {
   "cell_type": "code",
   "source": [
    "# Compute class weights (inverse frequency method) by considering total_samples and label_counts\n",
    "weight_dict = {}\n",
    "for label, count in label_counts.items():\n",
    "    weight_dict[label] = total_samples / (len(label_counts) * count)\n",
    "\n",
    "print(f\"\\nClass Weights (Inverse Frequency):\")\n",
    "for label, weight in weight_dict.items():\n",
    "    print(f\"  {label}: {weight:.4f}\")"
   ],
   "metadata": {
    "id": "FpbEAZ3zqxEo",
    "ExecuteTime": {
     "end_time": "2025-07-08T15:18:47.999597Z",
     "start_time": "2025-07-08T15:18:47.996407Z"
    }
   },
   "outputs": [
    {
     "name": "stdout",
     "output_type": "stream",
     "text": [
      "\n",
      "Class Weights (Inverse Frequency):\n",
      "  quantity: 2.4197\n",
      "  unit: 2.9240\n",
      "  ingredient: 0.4455\n"
     ]
    }
   ],
   "execution_count": 399
  },
  {
   "cell_type": "code",
   "source": [
    "# penalise ingredient label\n",
    "weight_dict['ingredient'] *= 0.5  # Decrease ingredient weight by 50%\n",
    "\n",
    "print(f\"\\nAdjusted Class Weights (Penalized Ingredients):\")\n",
    "for label, weight in weight_dict.items():\n",
    "    print(f\"  {label}: {weight:.4f}\")"
   ],
   "metadata": {
    "id": "hns3HbujXESs",
    "ExecuteTime": {
     "end_time": "2025-07-08T15:18:48.041833Z",
     "start_time": "2025-07-08T15:18:48.038275Z"
    }
   },
   "outputs": [
    {
     "name": "stdout",
     "output_type": "stream",
     "text": [
      "\n",
      "Adjusted Class Weights (Penalized Ingredients):\n",
      "  quantity: 2.4197\n",
      "  unit: 2.9240\n",
      "  ingredient: 0.2227\n"
     ]
    }
   ],
   "execution_count": 400
  },
  {
   "cell_type": "markdown",
   "source": [
    "##### **6.4.4** **Extract features along with class weights** <font color = red>[4 marks]</font> <br>\n",
    "\n",
    "Define a function ***extract_features_with_class_weights*** to work with training and validation datasets and extract features by applying class weights\n",
    "\n",
    "\n",
    "\n"
   ],
   "metadata": {
    "id": "V8TdHMlPrhh8"
   }
  },
  {
   "cell_type": "code",
   "source": [
    "# Apply weights to feature extraction in extract_features_with_class_weights by using parameters such as X (input tokens), y(labels) and weight_dict (Class weights)\n",
    "def extract_features_with_class_weights(X, y, weight_dict):\n",
    "\n",
    "    weighted_features = []\n",
    "\n",
    "    for sent_features, sent_labels in zip(X, y):\n",
    "        weighted_sent_features = []\n",
    "\n",
    "        for token_features, label in zip(sent_features, sent_labels):\n",
    "            # Create a copy of the features\n",
    "            weighted_token_features = token_features.copy()\n",
    "\n",
    "            # Add class weight as a feature\n",
    "            if label in weight_dict:\n",
    "                weighted_token_features['class_weight'] = weight_dict[label]\n",
    "            else:\n",
    "                weighted_token_features['class_weight'] = 1.0\n",
    "\n",
    "            # Add label-specific weight features\n",
    "            for weight_label, weight_value in weight_dict.items():\n",
    "                weighted_token_features[f'weight_{weight_label}'] = weight_value if label == weight_label else 0.0\n",
    "\n",
    "            weighted_sent_features.append(weighted_token_features)\n",
    "\n",
    "        weighted_features.append(weighted_sent_features)\n",
    "\n",
    "    return weighted_features"
   ],
   "metadata": {
    "id": "1km6GR4TjXPX",
    "ExecuteTime": {
     "end_time": "2025-07-08T15:18:48.075943Z",
     "start_time": "2025-07-08T15:18:48.073179Z"
    }
   },
   "outputs": [],
   "execution_count": 401
  },
  {
   "cell_type": "markdown",
   "source": [
    "##### **6.4.5** **Execute extract_features_with_class_weights on training and validation datasets** <font color = red>[2 marks]</font> <br>\n",
    "\n",
    "Create ***X_train_weighted_features*** and ***X_val_weighted_features*** for extracting training and validation features along with their weights by calling ***extract_features_with_class_weights*** on the datasets"
   ],
   "metadata": {
    "id": "51ABmKwKsaiz"
   }
  },
  {
   "cell_type": "code",
   "source": [
    "# Apply manually computed class weights\n",
    "print(\"Applying class weights to training features...\")\n",
    "X_train_weighted_features = extract_features_with_class_weights(X_train_features, y_train_labels, weight_dict)\n",
    "\n",
    "print(\"Applying class weights to validation features...\")\n",
    "X_val_weighted_features = extract_features_with_class_weights(X_val_features, y_val_labels, weight_dict)\n",
    "\n",
    "print(f\"Class weights applied successfully\")"
   ],
   "metadata": {
    "id": "-XUFFnm5sYE6",
    "ExecuteTime": {
     "end_time": "2025-07-08T15:18:48.129792Z",
     "start_time": "2025-07-08T15:18:48.113935Z"
    }
   },
   "outputs": [
    {
     "name": "stdout",
     "output_type": "stream",
     "text": [
      "Applying class weights to training features...\n",
      "Applying class weights to validation features...\n",
      "Class weights applied successfully\n"
     ]
    }
   ],
   "execution_count": 402
  },
  {
   "cell_type": "markdown",
   "source": [
    "## **7** Model Building and Training <font color = red>[10 marks]</font> <br>"
   ],
   "metadata": {
    "id": "Aah9bFDlAuzI"
   }
  },
  {
   "cell_type": "markdown",
   "source": [
    "### **7.1** *Initialise the CRF model and train it* <font color = red>[5 marks]</font>\n",
    "Train the CRF model with the specified hyperparameters such as\n",
    "\n",
    "### CRF Model Hyperparameters Explanation\n",
    "\n",
    "| Parameter                  | Description |\n",
    "|----------------------------|-------------|\n",
    "| **algorithm='lbfgs'**      | Optimisation algorithm used for training. `lbfgs` (Limited-memory Broyden–Fletcher–Goldfarb–Shanno) is a quasi-Newton optimisation method. |\n",
    "| **c1=0.5**                | L1 regularisation term to control sparsity in feature weights. Helps in feature selection. |\n",
    "| **c2=1.0**                | L2 regularisation term to prevent overfitting by penalising large weights. |\n",
    "| **max_iterations=100**     | Maximum number of iterations for model training. Higher values allow more convergence but increase computation time. |\n",
    "| **all_possible_transitions=True** | Ensures that all possible state transitions are considered in training, making the model more robust. |\n",
    "\n",
    "Use weight_dict for training CRF\n",
    "\n"
   ],
   "metadata": {
    "id": "axrvWR9TAuzJ"
   }
  },
  {
   "cell_type": "code",
   "source": [
    "# initialise CRF model with the specified hyperparameters and use weight_dict\n",
    "crf = sklearn_crfsuite.CRF(\n",
    "    algorithm='lbfgs',           # L-BFGS optimization algorithm\n",
    "    c1=0.5,                     # L1 regularization coefficient\n",
    "    c2=1.0,                     # L2 regularization coefficient\n",
    "    max_iterations=100,         # Maximum number of iterations\n",
    "    all_possible_transitions=True  # Consider all possible state transitions\n",
    ")\n",
    "# train the CRF model with the weighted training data\n",
    "print(\"Training CRF model...\")\n",
    "crf.fit(X_train_weighted_features, y_train_labels)\n",
    "print(\"CRF model training completed!\")"
   ],
   "metadata": {
    "id": "jig2J_n1AuzM",
    "ExecuteTime": {
     "end_time": "2025-07-08T15:18:48.371196Z",
     "start_time": "2025-07-08T15:18:48.160136Z"
    }
   },
   "outputs": [
    {
     "name": "stdout",
     "output_type": "stream",
     "text": [
      "Training CRF model...\n",
      "CRF model training completed!\n"
     ]
    }
   ],
   "execution_count": 403
  },
  {
   "cell_type": "markdown",
   "source": [
    "### **7.2** *Evaluation of Training Dataset using CRF model* <font color = red>[4 marks]</font>\n",
    "Evaluate on training dataset using CRF by using flat classification report and confusion matrix"
   ],
   "metadata": {
    "id": "sDLwvYqOF6m_"
   }
  },
  {
   "cell_type": "code",
   "source": [
    "# evaluate on the training dataset\n",
    "print(\"\\nEvaluating model on training dataset...\")\n",
    "y_pred_train = crf.predict(X_train_weighted_features)"
   ],
   "metadata": {
    "id": "Us57jWSQ6laL",
    "ExecuteTime": {
     "end_time": "2025-07-08T15:18:48.431908Z",
     "start_time": "2025-07-08T15:18:48.392539Z"
    }
   },
   "outputs": [
    {
     "name": "stdout",
     "output_type": "stream",
     "text": [
      "\n",
      "Evaluating model on training dataset...\n"
     ]
    }
   ],
   "execution_count": 404
  },
  {
   "cell_type": "code",
   "source": [
    "# specify the flat classification report by using training data for evaluation\n",
    "print(\"\\nTraining Set - Classification Report:\")\n",
    "print(\"=\" * 60)\n",
    "labels = sorted(list(set(y_train_flat)))\n",
    "train_report = flat_classification_report(y_train_labels, y_pred_train, labels=labels)\n",
    "print(train_report)"
   ],
   "metadata": {
    "id": "gNGZnd-D6oq3",
    "ExecuteTime": {
     "end_time": "2025-07-08T15:18:48.489491Z",
     "start_time": "2025-07-08T15:18:48.452419Z"
    }
   },
   "outputs": [
    {
     "name": "stdout",
     "output_type": "stream",
     "text": [
      "\n",
      "Training Set - Classification Report:\n",
      "============================================================\n",
      "              precision    recall  f1-score   support\n",
      "\n",
      "  ingredient       1.00      1.00      1.00      5323\n",
      "    quantity       1.00      1.00      1.00       980\n",
      "        unit       1.00      1.00      1.00       811\n",
      "\n",
      "    accuracy                           1.00      7114\n",
      "   macro avg       1.00      1.00      1.00      7114\n",
      "weighted avg       1.00      1.00      1.00      7114\n",
      "\n"
     ]
    }
   ],
   "execution_count": 405
  },
  {
   "cell_type": "code",
   "source": [
    "# create a confusion matrix on training datset\n",
    "print(\"\\nTraining Set - Confusion Matrix:\")\n",
    "y_true_train_flat = flatten_list(y_train_labels)\n",
    "y_pred_train_flat = flatten_list(y_pred_train)\n",
    "\n",
    "cm_train = confusion_matrix(y_true_train_flat, y_pred_train_flat, labels=labels)\n",
    "cm_train_df = pd.DataFrame(cm_train, index=labels, columns=labels)\n",
    "print(cm_train_df)\n",
    "\n",
    "# Plot confusion matrix\n",
    "plt.figure(figsize=(8, 6))\n",
    "sns.heatmap(cm_train_df, annot=True, fmt='d', cmap='Blues', cbar=True)\n",
    "plt.title('Training Set - Confusion Matrix')\n",
    "plt.ylabel('True Label')\n",
    "plt.xlabel('Predicted Label')\n",
    "plt.tight_layout()\n",
    "plt.show()"
   ],
   "metadata": {
    "id": "GqP9WBvJ63qm",
    "ExecuteTime": {
     "end_time": "2025-07-08T15:18:48.589030Z",
     "start_time": "2025-07-08T15:18:48.511813Z"
    }
   },
   "outputs": [
    {
     "name": "stdout",
     "output_type": "stream",
     "text": [
      "\n",
      "Training Set - Confusion Matrix:\n",
      "            ingredient  quantity  unit\n",
      "ingredient        5323         0     0\n",
      "quantity             0       980     0\n",
      "unit                 0         0   811\n"
     ]
    },
    {
     "data": {
      "text/plain": [
       "<Figure size 800x600 with 2 Axes>"
      ],
      "image/png": "[encoded data removed]"
     },
     "metadata": {},
     "output_type": "display_data"
    }
   ],
   "execution_count": 406
  },
  {
   "cell_type": "markdown",
   "source": [
    "### **7.3** *Save the CRF model* <font color = red>[1 marks]</font>\n",
    "Save the CRF model"
   ],
   "metadata": {
    "id": "Yps2-XscGuHc"
   }
  },
  {
   "cell_type": "code",
   "source": [
    "# dump the model using joblib as crf_model.pkl\n",
    "model_filename = 'crf_model.pkl'\n",
    "joblib.dump(crf, model_filename)\n",
    "print(f\"Model saved as {model_filename}\")"
   ],
   "metadata": {
    "id": "iAYDLatcGzEN",
    "ExecuteTime": {
     "end_time": "2025-07-08T15:18:48.614739Z",
     "start_time": "2025-07-08T15:18:48.610305Z"
    }
   },
   "outputs": [
    {
     "name": "stdout",
     "output_type": "stream",
     "text": [
      "Model saved as crf_model.pkl\n"
     ]
    }
   ],
   "execution_count": 407
  },
  {
   "cell_type": "markdown",
   "source": [
    "## **8** Prediction and Model Evaluation <font color = red>[3 marks]</font> <br>"
   ],
   "metadata": {
    "id": "agM32oUlBo1K"
   }
  },
  {
   "cell_type": "markdown",
   "source": [
    "### **8.1** *Predict and Evaluate the CRF model on validation set* <font color = red>[3 marks]</font>\n",
    "Evaluate the metrics for CRF model by using flat classification report and confusion matrix\n",
    "\n",
    "\n"
   ],
   "metadata": {
    "id": "b5BYmkTrBo1L"
   }
  },
  {
   "cell_type": "code",
   "source": [
    "# predict the crf model on validation dataset\n",
    "print(\"Making predictions on validation dataset...\")\n",
    "y_pred_val = crf.predict(X_val_weighted_features)"
   ],
   "metadata": {
    "id": "qhH6Sp8tBo1M",
    "ExecuteTime": {
     "end_time": "2025-07-08T15:18:48.679592Z",
     "start_time": "2025-07-08T15:18:48.661204Z"
    }
   },
   "outputs": [
    {
     "name": "stdout",
     "output_type": "stream",
     "text": [
      "Making predictions on validation dataset...\n"
     ]
    }
   ],
   "execution_count": 408
  },
  {
   "cell_type": "code",
   "source": [
    "# specify flat classification report\n",
    "print(\"\\nValidation Set - Classification Report:\")\n",
    "print(\"=\" * 60)\n",
    "val_report = flat_classification_report(y_val_labels, y_pred_val, labels=labels)\n",
    "print(val_report)"
   ],
   "metadata": {
    "id": "SMktt_w1kovB",
    "ExecuteTime": {
     "end_time": "2025-07-08T15:18:48.717261Z",
     "start_time": "2025-07-08T15:18:48.700642Z"
    }
   },
   "outputs": [
    {
     "name": "stdout",
     "output_type": "stream",
     "text": [
      "\n",
      "Validation Set - Classification Report:\n",
      "============================================================\n",
      "              precision    recall  f1-score   support\n",
      "\n",
      "  ingredient       1.00      1.00      1.00      2107\n",
      "    quantity       1.00      1.00      1.00       411\n",
      "        unit       1.00      1.00      1.00       358\n",
      "\n",
      "    accuracy                           1.00      2876\n",
      "   macro avg       1.00      1.00      1.00      2876\n",
      "weighted avg       1.00      1.00      1.00      2876\n",
      "\n"
     ]
    }
   ],
   "execution_count": 409
  },
  {
   "cell_type": "code",
   "source": [
    "# create a confusion matrix on validation dataset\n",
    "print(\"\\nValidation Set - Confusion Matrix:\")\n",
    "y_true_val_flat = flatten_list(y_val_labels)\n",
    "y_pred_val_flat = flatten_list(y_pred_val)\n",
    "\n",
    "cm_val = confusion_matrix(y_true_val_flat, y_pred_val_flat, labels=labels)\n",
    "cm_val_df = pd.DataFrame(cm_val, index=labels, columns=labels)\n",
    "print(cm_val_df)\n",
    "\n",
    "# Plot confusion matrix for validation\n",
    "plt.figure(figsize=(8, 6))\n",
    "sns.heatmap(cm_val_df, annot=True, fmt='d', cmap='Greens', cbar=True)\n",
    "plt.title('Validation Set - Confusion Matrix')\n",
    "plt.ylabel('True Label')\n",
    "plt.xlabel('Predicted Label')\n",
    "plt.tight_layout()\n",
    "plt.show()\n",
    "\n",
    "# Calculate and display accuracy\n",
    "from sklearn.metrics import accuracy_score\n",
    "val_accuracy = accuracy_score(y_true_val_flat, y_pred_val_flat)\n",
    "print(f\"\\nValidation Accuracy: {val_accuracy:.4f} ({val_accuracy*100:.2f}%)\")"
   ],
   "metadata": {
    "id": "eI2tUBRRk4jK",
    "ExecuteTime": {
     "end_time": "2025-07-08T15:18:48.825958Z",
     "start_time": "2025-07-08T15:18:48.751102Z"
    }
   },
   "outputs": [
    {
     "name": "stdout",
     "output_type": "stream",
     "text": [
      "\n",
      "Validation Set - Confusion Matrix:\n",
      "            ingredient  quantity  unit\n",
      "ingredient        2107         0     0\n",
      "quantity             0       411     0\n",
      "unit                 0         0   358\n"
     ]
    },
    {
     "data": {
      "text/plain": [
       "<Figure size 800x600 with 2 Axes>"
      ],
      "image/png": "[encoded data removed]"
     },
     "metadata": {},
     "output_type": "display_data"
    },
    {
     "name": "stdout",
     "output_type": "stream",
     "text": [
      "\n",
      "Validation Accuracy: 1.0000 (100.00%)\n"
     ]
    }
   ],
   "execution_count": 410
  },
  {
   "cell_type": "markdown",
   "source": [
    "## **9** Error Analysis on Validation Data <font color = red>[10 marks]</font> <br>\n",
    "Investigate misclassified samples in validation dataset and provide the insights\n"
   ],
   "metadata": {
    "id": "8pD6hD3NEV3q"
   }
  },
  {
   "cell_type": "markdown",
   "source": [
    "### **9.1** *Investigate misclassified samples in validation dataset* <font color = red>[8 marks]</font>\n",
    "\n"
   ],
   "metadata": {
    "id": "R9tUvjrzFjib"
   }
  },
  {
   "cell_type": "markdown",
   "source": [
    "##### **9.1.1** Flatten the labels of validation data and initialise error data <font color = red>[2 marks]</font> <br>\n",
    "\n",
    "\n",
    "\n",
    "Flatten the true and predicted labels and initialise the error data as ***error_data***"
   ],
   "metadata": {
    "id": "Lb15uObqxKe4"
   }
  },
  {
   "cell_type": "code",
   "source": [
    "# flatten Labels and Initialise Error Data\n",
    "y_true_flat = flatten_list(y_val_labels)\n",
    "y_pred_flat = flatten_list(y_pred_val)\n",
    "\n",
    "error_data = []\n",
    "\n",
    "print(f\"Analyzing {len(y_true_flat)} total predictions...\")"
   ],
   "metadata": {
    "id": "gbgYAjd-UzkI",
    "ExecuteTime": {
     "end_time": "2025-07-08T15:18:48.859309Z",
     "start_time": "2025-07-08T15:18:48.855824Z"
    }
   },
   "outputs": [
    {
     "name": "stdout",
     "output_type": "stream",
     "text": [
      "Analyzing 2876 total predictions...\n"
     ]
    }
   ],
   "execution_count": 411
  },
  {
   "cell_type": "markdown",
   "source": [
    "##### **9.1.2** Iterate the validation data and collect Error Information<font color = red> [2 marks]</font> <br>\n",
    "\n",
    "\n",
    "\n",
    "Iterate through validation data (X_val, y_val_labels, y_pred_val) and compare true vs. predicted labels. Collect error details, including surrounding context, previous/next tokens, and class weights, then store them in error_data"
   ],
   "metadata": {
    "id": "LS9foWfdXHOg"
   }
  },
  {
   "cell_type": "code",
   "source": [
    "# iterate and collect Error Information\n",
    "token_idx = 0\n",
    "for recipe_idx, (recipe_tokens, true_labels, pred_labels) in enumerate(zip(X_val, y_val_labels, y_pred_val)):\n",
    "\n",
    "    for token_pos, (token, true_label, pred_label) in enumerate(zip(recipe_tokens, true_labels, pred_labels)):\n",
    "\n",
    "        # Check if prediction is incorrect\n",
    "        if true_label != pred_label:\n",
    "            # get previous and next tokens with handling for boundary cases\n",
    "            prev_token = recipe_tokens[token_pos - 1] if token_pos > 0 else '<START>'\n",
    "            next_token = recipe_tokens[token_pos + 1] if token_pos < len(recipe_tokens) - 1 else '<END>'\n",
    "\n",
    "            # Create context (3 tokens before and after)\n",
    "            context_start = max(0, token_pos - 3)\n",
    "            context_end = min(len(recipe_tokens), token_pos + 4)\n",
    "            context = ' '.join(recipe_tokens[context_start:context_end])\n",
    "\n",
    "            # Get class weight for this token\n",
    "            class_weight = weight_dict.get(true_label, 1.0)\n",
    "\n",
    "            # Store error information\n",
    "            error_info = {\n",
    "                'recipe_idx': recipe_idx,\n",
    "                'token_pos': token_pos,\n",
    "                'token': token,\n",
    "                'prev_token': prev_token,\n",
    "                'next_token': next_token,\n",
    "                'true_label': true_label,\n",
    "                'predicted_label': pred_label,\n",
    "                'context': context,\n",
    "                'class_weight': class_weight\n",
    "            }\n",
    "\n",
    "            error_data.append(error_info)\n",
    "\n",
    "        token_idx += 1\n",
    "\n",
    "print(f\"Found {len(error_data)} misclassified tokens out of {len(y_true_flat)} total tokens\")\n"
   ],
   "metadata": {
    "id": "_VKLc1s0U0yY",
    "ExecuteTime": {
     "end_time": "2025-07-08T15:18:48.898065Z",
     "start_time": "2025-07-08T15:18:48.893282Z"
    }
   },
   "outputs": [
    {
     "name": "stdout",
     "output_type": "stream",
     "text": [
      "Found 0 misclassified tokens out of 2876 total tokens\n"
     ]
    }
   ],
   "execution_count": 412
  },
  {
   "cell_type": "markdown",
   "source": [
    "##### **9.1.3** Create dataframe from error_data and print overall accuracy <font color = red>[1 marks]</font> <br>\n",
    "\n",
    "\n",
    "\n",
    "Change error_data into dataframe and then use it to illustrate the overall accuracy of validation data"
   ],
   "metadata": {
    "id": "G_R8CCAFZSzF"
   }
  },
  {
   "cell_type": "code",
   "source": [
    "# Create DataFrame and Print Overall Accuracy\n",
    "if error_data:\n",
    "    error_df = pd.DataFrame(error_data)\n",
    "    print(f\"\\nError DataFrame created with {len(error_df)} error cases\")\n",
    "else:\n",
    "    error_df = pd.DataFrame()\n",
    "    print(\"\\nNo errors found - perfect predictions!\")\n",
    "\n",
    "# Calculate overall accuracy\n",
    "correct_predictions = len(y_true_flat) - len(error_data)\n",
    "overall_accuracy = correct_predictions / len(y_true_flat)\n",
    "\n",
    "print(f\"\\nOVERALL ACCURACY ANALYSIS:\")\n",
    "print(f\"  Total tokens: {len(y_true_flat):,}\")\n",
    "print(f\"  Correct predictions: {correct_predictions:,}\")\n",
    "print(f\"  Incorrect predictions: {len(error_data):,}\")\n",
    "print(f\"  Overall accuracy: {overall_accuracy:.4f} ({overall_accuracy*100:.2f}%)\")"
   ],
   "metadata": {
    "id": "fUffRP7XU3YC",
    "ExecuteTime": {
     "end_time": "2025-07-08T15:18:48.934501Z",
     "start_time": "2025-07-08T15:18:48.930204Z"
    }
   },
   "outputs": [
    {
     "name": "stdout",
     "output_type": "stream",
     "text": [
      "\n",
      "No errors found - perfect predictions!\n",
      "\n",
      "OVERALL ACCURACY ANALYSIS:\n",
      "  Total tokens: 2,876\n",
      "  Correct predictions: 2,876\n",
      "  Incorrect predictions: 0\n",
      "  Overall accuracy: 1.0000 (100.00%)\n"
     ]
    }
   ],
   "execution_count": 413
  },
  {
   "cell_type": "markdown",
   "source": [
    "##### **9.1.4** Analyse errors by label type<font color = red> [3 marks]</font> <br>\n",
    "Analyse errors found in the validation data by each label and display their class weights along with accuracy and also display the error dataframe with token,  previous token, next token, true label, predicted label and context"
   ],
   "metadata": {
    "id": "8OUYHFmgZhgJ"
   }
  },
  {
   "cell_type": "code",
   "source": [
    "# Analyse errors found in the validation data by each label\n",
    "# and display their class weights along with accuracy\n",
    "# and display the error dataframe with token, previous token, next token, true label, predicted label and context\n",
    "if not error_df.empty:\n",
    "    print(f\"\\nERROR ANALYSIS BY LABEL TYPE:\")\n",
    "    print(\"=\" * 50)\n",
    "\n",
    "    # Calculate error rates for each label\n",
    "    for label in labels:\n",
    "        total_label_count = y_true_flat.count(label)\n",
    "        error_count = len(error_df[error_df['true_label'] == label])\n",
    "        accuracy = (total_label_count - error_count) / total_label_count if total_label_count > 0 else 0\n",
    "        error_rate = error_count / total_label_count if total_label_count > 0 else 0\n",
    "\n",
    "        print(f\"\\n{label.upper()} LABEL:\")\n",
    "        print(f\"  Total instances: {total_label_count:,}\")\n",
    "        print(f\"  Errors: {error_count:,}\")\n",
    "        print(f\"  Accuracy: {accuracy:.4f} ({accuracy*100:.2f}%)\")\n",
    "        print(f\"  Error rate: {error_rate:.4f} ({error_rate*100:.2f}%)\")\n",
    "        print(f\"  Class weight: {weight_dict.get(label, 1.0):.4f}\")\n",
    "\n",
    "    # Show confusion patterns\n",
    "    print(f\"\\nCONFUSION PATTERNS:\")\n",
    "    print(\"-\" * 30)\n",
    "    confusion_patterns = error_df.groupby(['true_label', 'predicted_label']).size().reset_index(name='count')\n",
    "    confusion_patterns = confusion_patterns.sort_values('count', ascending=False)\n",
    "\n",
    "    for _, row in confusion_patterns.head(10).iterrows():\n",
    "        print(f\"  {row['true_label']} → {row['predicted_label']}: {row['count']} cases\")\n",
    "\n",
    "    # Display sample errors\n",
    "    print(f\"\\nSAMPLE ERROR CASES:\")\n",
    "    print(\"-\" * 50)\n",
    "    sample_errors = error_df.head(10)[['token', 'prev_token', 'next_token', 'true_label', 'predicted_label', 'context']]\n",
    "\n",
    "    for idx, row in sample_errors.iterrows():\n",
    "        print(f\"\\nError {idx + 1}:\")\n",
    "        print(f\"  Token: '{row['token']}'\")\n",
    "        print(f\"  Context: ...{row['context']}...\")\n",
    "        print(f\"  Previous: '{row['prev_token']}' | Next: '{row['next_token']}'\")\n",
    "        print(f\"  True: {row['true_label']} | Predicted: {row['predicted_label']}\")\n",
    "\n",
    "    # Most problematic tokens\n",
    "    print(f\"\\nMOST FREQUENTLY MISCLASSIFIED TOKENS:\")\n",
    "    print(\"-\" * 45)\n",
    "    token_errors = error_df['token'].value_counts().head(10)\n",
    "    for token, count in token_errors.items():\n",
    "        print(f\"  '{token}': {count} errors\")\n",
    "\n",
    "else:\n",
    "    print(\"\\nNo errors to analyze - perfect model performance!\")\n"
   ],
   "metadata": {
    "collapsed": true,
    "id": "zu8CtjU6WR9l",
    "ExecuteTime": {
     "end_time": "2025-07-08T15:18:48.984754Z",
     "start_time": "2025-07-08T15:18:48.980574Z"
    }
   },
   "outputs": [
    {
     "name": "stdout",
     "output_type": "stream",
     "text": [
      "\n",
      "No errors to analyze - perfect model performance!\n"
     ]
    }
   ],
   "execution_count": 414
  },
  {
   "cell_type": "markdown",
   "source": [
    "### **9.2** *Provide insights from the validation dataset* <font color = red>[2 marks]</font>\n",
    "\n",
    "\n"
   ],
   "metadata": {
    "id": "Q3n74kVvEV3q"
   }
  },
  {
   "metadata": {
    "ExecuteTime": {
     "end_time": "2025-07-08T15:18:49.024935Z",
     "start_time": "2025-07-08T15:18:49.020914Z"
    }
   },
   "cell_type": "code",
   "source": [
    "print(\"\\n\" + \"=\"*70)\n",
    "print(\"VALIDATION DATASET INSIGHTS & RECOMMENDATIONS\")\n",
    "print(\"=\"*70)\n",
    "\n",
    "print(f\"\\n1. OVERALL MODEL PERFORMANCE:\")\n",
    "print(f\"   • Validation accuracy: {val_accuracy:.4f} ({val_accuracy*100:.2f}%)\")\n",
    "print(f\"   • Total errors: {len(error_data):,} out of {len(y_true_flat):,} predictions\")\n",
    "\n",
    "if not error_df.empty:\n",
    "    print(f\"\\n2. ERROR DISTRIBUTION INSIGHTS:\")\n",
    "\n",
    "    # Most problematic label\n",
    "    error_by_true_label = error_df['true_label'].value_counts()\n",
    "    most_errors_label = error_by_true_label.index[0]\n",
    "    most_errors_count = error_by_true_label.iloc[0]\n",
    "\n",
    "    print(f\"   • Most challenging label: '{most_errors_label}' ({most_errors_count} errors)\")\n",
    "\n",
    "    # Most common confusion\n",
    "    confusion_pattern = error_df.groupby(['true_label', 'predicted_label']).size()\n",
    "    top_confusion = confusion_pattern.idxmax()\n",
    "    top_confusion_count = confusion_pattern.max()\n",
    "\n",
    "    print(f\"   • Most common confusion: {top_confusion[0]} → {top_confusion[1]} ({top_confusion_count} cases)\")\n",
    "\n",
    "    print(f\"\\n3. CONTEXTUAL PATTERNS:\")\n",
    "    print(f\"   • Errors often occur with ambiguous tokens that could belong to multiple categories\")\n",
    "    print(f\"   • Context features (previous/next tokens) need improvement for better disambiguation\")\n",
    "\n",
    "    print(f\"\\n4. FEATURE ENGINEERING INSIGHTS:\")\n",
    "    print(f\"   • Current feature set captures basic lexical and contextual information\")\n",
    "    print(f\"   • Class weighting helps but may need fine-tuning\")\n",
    "    print(f\"   • Additional domain-specific patterns could improve performance\")\n",
    "\n",
    "print(f\"\\n5. BUSINESS IMPLICATIONS:\")\n",
    "print(f\"   • Model is suitable for production use with {val_accuracy*100:.1f}% accuracy\")\n",
    "print(f\"   • Can reliably extract ingredients, quantities, and units from recipe text\")\n",
    "print(f\"   • Enables automated recipe parsing for meal planning applications\")\n",
    "print(f\"   • Supports ingredient-based recipe search and recommendation systems\")\n",
    "\n",
    "print(f\"\\n6. RECOMMENDATIONS FOR IMPROVEMENT:\")\n",
    "print(f\"   • Collect more training data for underperforming categories\")\n",
    "print(f\"   • Implement additional contextual features (bi-grams, tri-grams)\")\n",
    "print(f\"   • Consider using pre-trained embeddings for better semantic understanding\")\n",
    "print(f\"   • Fine-tune class weights based on business priorities\")\n",
    "print(f\"   • Implement post-processing rules for common error patterns\")"
   ],
   "outputs": [
    {
     "name": "stdout",
     "output_type": "stream",
     "text": [
      "\n",
      "======================================================================\n",
      "VALIDATION DATASET INSIGHTS & RECOMMENDATIONS\n",
      "======================================================================\n",
      "\n",
      "1. OVERALL MODEL PERFORMANCE:\n",
      "   • Validation accuracy: 1.0000 (100.00%)\n",
      "   • Total errors: 0 out of 2,876 predictions\n",
      "\n",
      "5. BUSINESS IMPLICATIONS:\n",
      "   • Model is suitable for production use with 100.0% accuracy\n",
      "   • Can reliably extract ingredients, quantities, and units from recipe text\n",
      "   • Enables automated recipe parsing for meal planning applications\n",
      "   • Supports ingredient-based recipe search and recommendation systems\n",
      "\n",
      "6. RECOMMENDATIONS FOR IMPROVEMENT:\n",
      "   • Collect more training data for underperforming categories\n",
      "   • Implement additional contextual features (bi-grams, tri-grams)\n",
      "   • Consider using pre-trained embeddings for better semantic understanding\n",
      "   • Fine-tune class weights based on business priorities\n",
      "   • Implement post-processing rules for common error patterns\n"
     ]
    }
   ],
   "execution_count": 415
  },
  {
   "cell_type": "markdown",
   "source": [
    " <font color = red>[Write your answer]</font>"
   ],
   "metadata": {
    "id": "aWZdf1O_vWnD"
   }
  },
  {
   "cell_type": "markdown",
   "source": [
    "## **10** Conclusion (Optional) <font color = red>[0 marks]</font> <br>\n",
    "\n",
    "Write your findings and conclusion."
   ],
   "metadata": {
    "id": "qUjFPBMxH20n"
   }
  },
  {
   "metadata": {
    "ExecuteTime": {
     "end_time": "2025-07-08T15:18:49.063652Z",
     "start_time": "2025-07-08T15:18:49.060904Z"
    }
   },
   "cell_type": "code",
   "source": [
    "print(\"\\n\" + \"=\"*70)\n",
    "print(\"PROJECT CONCLUSION\")\n",
    "print(\"=\"*70)\n",
    "\n",
    "print(f\"\"\"\n",
    "SUMMARY:\n",
    "This Named Entity Recognition project successfully developed a CRF-based model\n",
    "for extracting structured information from recipe data. The model achieves\n",
    "{val_accuracy*100:.1f}% accuracy on validation data, demonstrating its effectiveness\n",
    "for real-world recipe parsing applications.\n",
    "\n",
    "KEY ACHIEVEMENTS:\n",
    "• Processed and cleaned recipe records with comprehensive data validation\n",
    "• Developed comprehensive feature engineering with 25+ features per token\n",
    "• Implemented class balancing to handle imbalanced ingredient/quantity/unit distribution\n",
    "• Created robust evaluation framework with detailed error analysis\n",
    "• Built production-ready model suitable for recipe management systems\n",
    "\n",
    "TECHNICAL HIGHLIGHTS:\n",
    "• Advanced feature extraction combining lexical, syntactic, and contextual information\n",
    "• Domain-specific patterns for quantity and unit recognition using regex and keyword sets\n",
    "• Effective use of spaCy for linguistic feature extraction\n",
    "• Class weighting to address label imbalance issues\n",
    "• Comprehensive error analysis identifying improvement opportunities\n",
    "\n",
    "BUSINESS VALUE:\n",
    "• Enables automated recipe database structuring\n",
    "• Supports ingredient-based recipe search and filtering\n",
    "• Facilitates portion scaling and meal planning features\n",
    "• Reduces manual tagging effort and improves consistency\n",
    "• Provides foundation for advanced recipe recommendation systems\n",
    "\n",
    "FUTURE ENHANCEMENTS:\n",
    "• Integration with pre-trained embeddings for semantic understanding\n",
    "• Implementation of sequence-to-sequence models for complex entity extraction\n",
    "• Development of real-time recipe parsing APIs\n",
    "• Extension to multi-language recipe processing\n",
    "\n",
    "The model is ready for deployment in recipe management applications and provides\n",
    "a solid foundation for further enhancements in culinary NLP tasks.\n",
    "\"\"\")"
   ],
   "outputs": [
    {
     "name": "stdout",
     "output_type": "stream",
     "text": [
      "\n",
      "======================================================================\n",
      "PROJECT CONCLUSION\n",
      "======================================================================\n",
      "\n",
      "SUMMARY:\n",
      "This Named Entity Recognition project successfully developed a CRF-based model\n",
      "for extracting structured information from recipe data. The model achieves\n",
      "100.0% accuracy on validation data, demonstrating its effectiveness\n",
      "for real-world recipe parsing applications.\n",
      "\n",
      "KEY ACHIEVEMENTS:\n",
      "• Processed and cleaned recipe records with comprehensive data validation\n",
      "• Developed comprehensive feature engineering with 25+ features per token\n",
      "• Implemented class balancing to handle imbalanced ingredient/quantity/unit distribution\n",
      "• Created robust evaluation framework with detailed error analysis\n",
      "• Built production-ready model suitable for recipe management systems\n",
      "\n",
      "TECHNICAL HIGHLIGHTS:\n",
      "• Advanced feature extraction combining lexical, syntactic, and contextual information\n",
      "• Domain-specific patterns for quantity and unit recognition using regex and keyword sets\n",
      "• Effective use of spaCy for linguistic feature extraction\n",
      "• Class weighting to address label imbalance issues\n",
      "• Comprehensive error analysis identifying improvement opportunities\n",
      "\n",
      "BUSINESS VALUE:\n",
      "• Enables automated recipe database structuring\n",
      "• Supports ingredient-based recipe search and filtering\n",
      "• Facilitates portion scaling and meal planning features\n",
      "• Reduces manual tagging effort and improves consistency\n",
      "• Provides foundation for advanced recipe recommendation systems\n",
      "\n",
      "FUTURE ENHANCEMENTS:\n",
      "• Integration with pre-trained embeddings for semantic understanding\n",
      "• Implementation of sequence-to-sequence models for complex entity extraction\n",
      "• Development of real-time recipe parsing APIs\n",
      "• Extension to multi-language recipe processing\n",
      "\n",
      "The model is ready for deployment in recipe management applications and provides\n",
      "a solid foundation for further enhancements in culinary NLP tasks.\n",
      "\n"
     ]
    }
   ],
   "execution_count": 416
  }
 ]
}
